{
  "nbformat": 4,
  "nbformat_minor": 0,
  "metadata": {
    "colab": {
      "provenance": [],
      "authorship_tag": "ABX9TyPQ8v1zqXEF5QTgGXyS84/V",
      "include_colab_link": true
    },
    "kernelspec": {
      "name": "python3",
      "display_name": "Python 3"
    },
    "language_info": {
      "name": "python"
    }
  },
  "cells": [
    {
      "cell_type": "markdown",
      "metadata": {
        "id": "view-in-github",
        "colab_type": "text"
      },
      "source": [
        "<a href=\"https://colab.research.google.com/github/rebeccalizaverghese/Python-with-Machine-Learning/blob/main/Interactive_Python_Notebook_Assignments.ipynb\" target=\"_parent\"><img src=\"https://colab.research.google.com/assets/colab-badge.svg\" alt=\"Open In Colab\"/></a>"
      ]
    },
    {
      "cell_type": "code",
      "execution_count": null,
      "metadata": {
        "id": "bi-BFgInkfpN"
      },
      "outputs": [],
      "source": []
    },
    {
      "cell_type": "markdown",
      "source": [
        "**Assignment**\n",
        "\n",
        "A1- Create Simple Calculator"
      ],
      "metadata": {
        "id": "XiTSuwaPk93s"
      }
    },
    {
      "cell_type": "code",
      "source": [
        "def add(num1, num2):\n",
        "  return num1+num2\n",
        "\n",
        "def subtract(num1, num2):\n",
        "  return num1-num2\n",
        "\n",
        "def multiply(num1, num2):\n",
        "  return num1*num2\n",
        "\n",
        "def divide(num1, num2):\n",
        "  return num1/num2\n",
        "\n",
        "print (\"Select Operation\\n\" \\\n",
        "       \"1.Add\\n\" \\\n",
        "       \"2.Subtract\\n\" \\\n",
        "       \"3.Multiply\\n\" \\\n",
        "       \"4.Divide\")\n"
      ],
      "metadata": {
        "colab": {
          "base_uri": "https://localhost:8080/"
        },
        "id": "HPufcf-wlHlC",
        "outputId": "f4da351b-a50b-4cd2-cf49-12f703cbfa5e"
      },
      "execution_count": 5,
      "outputs": [
        {
          "output_type": "stream",
          "name": "stdout",
          "text": [
            "Select Operation\n",
            "1.Add\n",
            "2.Subtract\n",
            "3.Multiply\n",
            "4.Divide\n"
          ]
        }
      ]
    },
    {
      "cell_type": "code",
      "source": [
        "select = int(input(\"Select operation from 1,2,3,4\"))\n",
        "num1 = int(input(\"Enter first number\"))\n",
        "num2 = int(input(\"Enter second number\"))\n",
        "\n",
        "if select == 1:\n",
        "  print(num1,\"+\", num2,\"=\", add(num1,num2))\n",
        "elif select == 2:\n",
        "  print(num1,\"-\",num2,\"=\", subtract(num1,num2))\n",
        "elif select == 3:\n",
        "  print(num1,\"*\",num2,\"=\", multiply(num1,num2))\n",
        "elif select ==4:\n",
        "  print(num1,\"/\",num2,\"=\", divide(num1,num2))\n",
        "else:\n",
        "  print(\"Invalid Input\")"
      ],
      "metadata": {
        "colab": {
          "base_uri": "https://localhost:8080/"
        },
        "id": "xkQawdWdrN4Q",
        "outputId": "7237d8e8-c6bb-4a7b-efbe-93df01570978"
      },
      "execution_count": 11,
      "outputs": [
        {
          "output_type": "stream",
          "name": "stdout",
          "text": [
            "Select operation from 1,2,3,43\n",
            "Enter first number11\n",
            "Enter second number3\n",
            "11 * 3 = 33\n"
          ]
        }
      ]
    },
    {
      "cell_type": "code",
      "source": [],
      "metadata": {
        "id": "yHMUlCQFtFUl"
      },
      "execution_count": null,
      "outputs": []
    }
  ]
}