{
  "nbformat": 4,
  "nbformat_minor": 0,
  "metadata": {
    "colab": {
      "provenance": [],
      "authorship_tag": "ABX9TyO7GAFfhM/L1WIdmKGWhHOR",
      "include_colab_link": true
    },
    "kernelspec": {
      "name": "python3",
      "display_name": "Python 3"
    },
    "language_info": {
      "name": "python"
    }
  },
  "cells": [
    {
      "cell_type": "markdown",
      "metadata": {
        "id": "view-in-github",
        "colab_type": "text"
      },
      "source": [
        "<a href=\"https://colab.research.google.com/github/rebeccalizaverghese/Python-with-Machine-Learning/blob/main/Interactive_Python_Notebook_Class_9.ipynb\" target=\"_parent\"><img src=\"https://colab.research.google.com/assets/colab-badge.svg\" alt=\"Open In Colab\"/></a>"
      ]
    },
    {
      "cell_type": "code",
      "execution_count": null,
      "metadata": {
        "id": "Pd2xPHlWskdn"
      },
      "outputs": [],
      "source": []
    },
    {
      "cell_type": "markdown",
      "source": [
        "**Class 9**"
      ],
      "metadata": {
        "id": "Pqn0ukyhuKGc"
      }
    },
    {
      "cell_type": "code",
      "source": [
        "#OPPS - object oriented programming language\n",
        "#Class -> blueprint for creating an object\n",
        "class laptop():\n",
        "  #Attributes -> are variables which are defined in the class and that share the same value\n",
        "  processor= \"Intel i5\"\n",
        "  display= \"Full HD screen\"\n",
        "\n",
        "laptop.processor=\"Intel i7\"\n"
      ],
      "metadata": {
        "id": "Xb_7HMA0uMWn"
      },
      "execution_count": 70,
      "outputs": []
    },
    {
      "cell_type": "code",
      "source": [
        "# object - enables to create multiple copies of an \"instance of a class\"\n",
        "obj1= laptop()\n",
        "obj2= laptop()\n",
        "obj2.processor=\"Pentium\"\n",
        "print(\"The processor is\", obj1.processor)\n",
        "print(\"The display is\", obj1.display)\n",
        "print(\"The processor is\", obj2.processor)"
      ],
      "metadata": {
        "colab": {
          "base_uri": "https://localhost:8080/"
        },
        "id": "TafKIgDqxJ0g",
        "outputId": "6b142e90-7e2d-4062-dd9f-12c4d2e9f5b6"
      },
      "execution_count": 71,
      "outputs": [
        {
          "output_type": "stream",
          "name": "stdout",
          "text": [
            "The processor is Intel i7\n",
            "The display is Full HD screen\n",
            "The processor is Pentium\n"
          ]
        }
      ]
    },
    {
      "cell_type": "code",
      "source": [
        "# changes in main class (laptop) can affect the object. - when you change the values of class attribute it will affect all the instance and share the same value specified in the main class\n",
        "# changes made to objects (obj2) only affect the specific object (obj2) not all objects (obj1) - instance attribute -  variable belonging to only one object \n"
      ],
      "metadata": {
        "id": "DWMGBIGextHk"
      },
      "execution_count": 72,
      "outputs": []
    },
    {
      "cell_type": "code",
      "source": [
        "class laptop():\n",
        "  # Attributes --> are the variables which is defined in the class and are\n",
        "  # shared by all the objects of the class\n",
        "  processor = \"Intel i7\"\n",
        "  display = \"Full HD screen\"\n",
        "  def __init__(self,color):\n",
        "    self.color=color\n",
        "  def a(self):\n",
        "     print(\"Welcome to python world!\")\n",
        "\n",
        "laptop.processor=\"Intel i5\"\n"
      ],
      "metadata": {
        "id": "AFPw1sG1xzVe"
      },
      "execution_count": 73,
      "outputs": []
    },
    {
      "cell_type": "code",
      "source": [
        "obj3=laptop(\"Red\")\n",
        "print(obj3.processor)\n",
        "print(obj3.color)\n",
        "obj3.a()"
      ],
      "metadata": {
        "colab": {
          "base_uri": "https://localhost:8080/"
        },
        "id": "4pamRF2t1WsD",
        "outputId": "8ecfc4fb-076f-47d2-b667-f642386eb7e9"
      },
      "execution_count": 74,
      "outputs": [
        {
          "output_type": "stream",
          "name": "stdout",
          "text": [
            "Intel i5\n",
            "Red\n",
            "Welcome to python world!\n"
          ]
        }
      ]
    },
    {
      "cell_type": "code",
      "source": [
        "#Inheritance\n",
        "\n",
        "class parent():\n",
        "  processor= \"Intel I5\"\n",
        "  display= \"Full HD screen\"\n",
        "  def __init__(self,color):\n",
        "    self.color=color\n",
        "  def a(self):\n",
        "    print(\"Welcome to Python World!\")\n",
        "\n",
        "class child(parent):\n",
        "  def __init__(self,color,camera):\n",
        "    self.camera=camera\n",
        "    parent.__init__(self,color)\n",
        "  def b(self):\n",
        "    print(\"The child class which is inherited class from parent\")\n",
        "\n",
        "laptop.processor= \"Intel I7\"\n",
        "  \n"
      ],
      "metadata": {
        "id": "C4wGGASM2PVr"
      },
      "execution_count": 75,
      "outputs": []
    },
    {
      "cell_type": "code",
      "source": [
        "obj3=parent(\"Red\")\n",
        "print(obj3.processor)\n",
        "print(obj3.color)\n",
        "obj3.a()"
      ],
      "metadata": {
        "colab": {
          "base_uri": "https://localhost:8080/"
        },
        "id": "t5A8S43v-v9p",
        "outputId": "ab5b9d5f-e737-4e3e-9424-b18455f1e324"
      },
      "execution_count": 76,
      "outputs": [
        {
          "output_type": "stream",
          "name": "stdout",
          "text": [
            "Intel I5\n",
            "Red\n",
            "Welcome to Python World!\n"
          ]
        }
      ]
    },
    {
      "cell_type": "code",
      "source": [
        "obj4= child(\"Black\", \"Hp\")\n",
        "print(obj4.camera)\n",
        "obj4.a()\n",
        "obj4.b()"
      ],
      "metadata": {
        "colab": {
          "base_uri": "https://localhost:8080/"
        },
        "id": "X4maR94W-5Qs",
        "outputId": "049587da-48a4-43a5-847f-c13f66c7dbd9"
      },
      "execution_count": 77,
      "outputs": [
        {
          "output_type": "stream",
          "name": "stdout",
          "text": [
            "Hp\n",
            "Welcome to Python World!\n",
            "The child class which is inherited class from parent\n"
          ]
        }
      ]
    },
    {
      "cell_type": "code",
      "source": [],
      "metadata": {
        "id": "Ot-p1-pA_Xn5"
      },
      "execution_count": null,
      "outputs": []
    }
  ]
}