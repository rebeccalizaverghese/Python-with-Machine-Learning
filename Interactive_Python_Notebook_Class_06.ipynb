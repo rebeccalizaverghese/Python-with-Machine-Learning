{
  "nbformat": 4,
  "nbformat_minor": 0,
  "metadata": {
    "colab": {
      "provenance": [],
      "authorship_tag": "ABX9TyO7taEdUI4kDTUyJCpvQA63",
      "include_colab_link": true
    },
    "kernelspec": {
      "name": "python3",
      "display_name": "Python 3"
    },
    "language_info": {
      "name": "python"
    }
  },
  "cells": [
    {
      "cell_type": "markdown",
      "metadata": {
        "id": "view-in-github",
        "colab_type": "text"
      },
      "source": [
        "<a href=\"https://colab.research.google.com/github/rebeccalizaverghese/Python-with-Machine-Learning/blob/main/Interactive_Python_Notebook_Class_6.ipynb\" target=\"_parent\"><img src=\"https://colab.research.google.com/assets/colab-badge.svg\" alt=\"Open In Colab\"/></a>"
      ]
    },
    {
      "cell_type": "markdown",
      "source": [
        "Class 6"
      ],
      "metadata": {
        "id": "M2tbAaqsxK1w"
      }
    },
    {
      "cell_type": "code",
      "source": [
        "#keyword for creating function - (def)\n",
        "\n",
        "def calc(num1,num2):\n",
        "  print(\"The sum of values are\", num1+num2)\n",
        "#Parameter - variables/placeholders for values used when creating a function (num1,num2) \n",
        "#Arguement - values passing through the parameter (10,20)\n",
        "#function name - calc\n",
        "calc(10,20)\n"
      ],
      "metadata": {
        "colab": {
          "base_uri": "https://localhost:8080/"
        },
        "id": "4tXKGxVvxQbw",
        "outputId": "6bff91c5-2d30-4415-ee0a-d3405580b7c0"
      },
      "execution_count": 2,
      "outputs": [
        {
          "output_type": "stream",
          "name": "stdout",
          "text": [
            "The sum of values are 30\n"
          ]
        }
      ]
    },
    {
      "cell_type": "code",
      "source": [
        "def a():\n",
        "  x=10\n",
        "  for y in range(1,10):\n",
        "    add=x+y\n",
        "    print(\"The sum of\",x, \"and\",y,\"=\", add)\n",
        "\n",
        "a()"
      ],
      "metadata": {
        "colab": {
          "base_uri": "https://localhost:8080/"
        },
        "id": "W1OY-JQUzYYB",
        "outputId": "b8621e55-c2dd-4c5d-f775-57f30cd29ed3"
      },
      "execution_count": 8,
      "outputs": [
        {
          "output_type": "stream",
          "name": "stdout",
          "text": [
            "The sum of 10 and 1 = 11\n",
            "The sum of 10 and 2 = 12\n",
            "The sum of 10 and 3 = 13\n",
            "The sum of 10 and 4 = 14\n",
            "The sum of 10 and 5 = 15\n",
            "The sum of 10 and 6 = 16\n",
            "The sum of 10 and 7 = 17\n",
            "The sum of 10 and 8 = 18\n",
            "The sum of 10 and 9 = 19\n"
          ]
        }
      ]
    },
    {
      "cell_type": "code",
      "source": [
        "def b():\n",
        "  list1=[1,2,3,4,5,6,7,8,9]\n",
        "  for x in list1:\n",
        "    multiply= x*3\n",
        "    print(x,\"*\",3,\"=\",multiply)\n",
        "\n",
        "b()"
      ],
      "metadata": {
        "colab": {
          "base_uri": "https://localhost:8080/"
        },
        "id": "WkHm7WKX1ccz",
        "outputId": "ce07ca9e-9379-48b5-91a4-a9ead96d9ea9"
      },
      "execution_count": 10,
      "outputs": [
        {
          "output_type": "stream",
          "name": "stdout",
          "text": [
            "1 * 3 = 3\n",
            "2 * 3 = 6\n",
            "3 * 3 = 9\n",
            "4 * 3 = 12\n",
            "5 * 3 = 15\n",
            "6 * 3 = 18\n",
            "7 * 3 = 21\n",
            "8 * 3 = 24\n",
            "9 * 3 = 27\n"
          ]
        }
      ]
    },
    {
      "cell_type": "code",
      "source": [
        "#Zip function - used to iterate over two seperate ranges parrallely\n",
        "def z():\n",
        "  for a,b in zip(range(1,10), range(11,20)):\n",
        "    print(a,\"+\",b,\"=\", a+b)\n",
        "\n",
        "z()"
      ],
      "metadata": {
        "colab": {
          "base_uri": "https://localhost:8080/"
        },
        "id": "-7MFlK6L2fcU",
        "outputId": "f696dbca-e950-4395-dc35-5e0d04f400ef"
      },
      "execution_count": 25,
      "outputs": [
        {
          "output_type": "stream",
          "name": "stdout",
          "text": [
            "1 + 11 = 12\n",
            "2 + 12 = 14\n",
            "3 + 13 = 16\n",
            "4 + 14 = 18\n",
            "5 + 15 = 20\n",
            "6 + 16 = 22\n",
            "7 + 17 = 24\n",
            "8 + 18 = 26\n",
            "9 + 19 = 28\n"
          ]
        }
      ]
    },
    {
      "cell_type": "code",
      "source": [
        "#Advanced Arguement passing - \n",
        "#function simply passes data/arguements based on position of parameter irrespective of whether they fit within the parameters assigned\n",
        "#Positional Arguements - arguements need to be passed in the proper position of the parameters ( name argumenet in name parameter etc.)\n",
        "def details(name,city,batch):\n",
        "  print(\"My name is\",name,\"from\",city ,\"Batch\",batch)\n",
        "\n",
        "details(\"Zion\",\"Dubai\",2021)\n",
        "details(\"Kiara\",\"Rome\",2022)\n",
        "details(\"Kim\",\"New York\",2023)\n",
        "details(\"Bangalore\",2023,\"Tom\")"
      ],
      "metadata": {
        "colab": {
          "base_uri": "https://localhost:8080/"
        },
        "id": "WCZWhLVX3QGo",
        "outputId": "135d719d-0db7-480c-fef4-1e571b08ec7c"
      },
      "execution_count": 34,
      "outputs": [
        {
          "output_type": "stream",
          "name": "stdout",
          "text": [
            "My name is Zion from Dubai Batch 2021\n",
            "My name is Kiara from Rome Batch 2022\n",
            "My name is Kim from New York Batch 2023\n",
            "My name is Bangalore from 2023 Batch Tom\n"
          ]
        }
      ]
    },
    {
      "cell_type": "code",
      "source": [
        "x=int(input(\"Enter first number\"))\n",
        "y=int(input(\"Enter second number\"))\n",
        "print(x+y) #data types - string -> to convert to integer add 'int' before input\n",
        "print(type(x+y))"
      ],
      "metadata": {
        "colab": {
          "base_uri": "https://localhost:8080/"
        },
        "id": "tKtDWlRv5pYx",
        "outputId": "0877dc1e-176b-4d0e-aa54-1ddb1768a661"
      },
      "execution_count": 38,
      "outputs": [
        {
          "output_type": "stream",
          "name": "stdout",
          "text": [
            "Enter first number30\n",
            "Enter second number3\n",
            "33\n",
            "<class 'int'>\n"
          ]
        }
      ]
    },
    {
      "cell_type": "code",
      "source": [
        "a=int(\"10\")\n",
        "print(a)\n",
        "print(type(a))\n",
        "\n",
        "b=10\n",
        "print(b, type(b))\n",
        "\n",
        "c=\"10\"\n",
        "print(c, type(c))"
      ],
      "metadata": {
        "colab": {
          "base_uri": "https://localhost:8080/"
        },
        "id": "MMQclcdN7aSf",
        "outputId": "11121110-0597-427e-db75-4f92219f9f6c"
      },
      "execution_count": 42,
      "outputs": [
        {
          "output_type": "stream",
          "name": "stdout",
          "text": [
            "10\n",
            "<class 'int'>\n",
            "10 <class 'int'>\n",
            "10 <class 'str'>\n"
          ]
        }
      ]
    },
    {
      "cell_type": "code",
      "source": [
        "def data(age,status,position):\n",
        "  print(\"She is\",age,\"years,\",status,\"and working as\",position)\n",
        "\n",
        "data(33,\"married\",\"regional manager\")\n",
        "data(22,\"single\",\"intern\")\n",
        "data(29,\"single\",\"supervisor\")"
      ],
      "metadata": {
        "colab": {
          "base_uri": "https://localhost:8080/"
        },
        "id": "5AHPFhlz_NU4",
        "outputId": "8ad92c1a-18e3-4e97-8be5-548a0653fb31"
      },
      "execution_count": 45,
      "outputs": [
        {
          "output_type": "stream",
          "name": "stdout",
          "text": [
            "She is 33 years, married and working as regional manager\n",
            "She is 22 years, single and working as intern\n",
            "She is 29 years, single and working as supervisor\n"
          ]
        }
      ]
    },
    {
      "cell_type": "code",
      "source": [
        "#Keyword Arguement- values allocated based on keys (name/city/batch) while calling arguement not based on position\n",
        "def details(name,city,batch):\n",
        "  print(\"My name is\",name,\"from\",city ,\"Batch\",batch)\n",
        "\n",
        "details(city=\"Bangalore\", batch=2023, name=\"Tom\")\n",
        "details(\"Tom\",batch=2020,city=\"Bangalore\") # Combination of positional and keyword arguement - positional arguement must be before keyword arguements"
      ],
      "metadata": {
        "colab": {
          "base_uri": "https://localhost:8080/"
        },
        "id": "mf9aed7IA9Ik",
        "outputId": "734db00e-a49b-4c07-f73b-1145a67167d5"
      },
      "execution_count": 59,
      "outputs": [
        {
          "output_type": "stream",
          "name": "stdout",
          "text": [
            "My name is Tom from Bangalore Batch 2023\n",
            "My name is Tom from Bangalore Batch 2020\n"
          ]
        }
      ]
    },
    {
      "cell_type": "code",
      "source": [
        "#Default Arguement - passing values directly to parameters\n",
        "def details(name=\"Tom\",city=\"Chennai\",batch=\"April\"):\n",
        "  print(\"My name is\",name,\"from\",city ,\"Batch\",batch)\n",
        "  \n",
        "details()\n",
        "details(\"Jerry\")\n",
        "details(\"Jerry\", \"Muscat\") \n"
      ],
      "metadata": {
        "colab": {
          "base_uri": "https://localhost:8080/"
        },
        "id": "IGtd5wpIDGcY",
        "outputId": "0a8e8bd5-672e-4ae5-b826-a3df42a09429"
      },
      "execution_count": 65,
      "outputs": [
        {
          "output_type": "stream",
          "name": "stdout",
          "text": [
            "My name is Tom from Chennai Batch April\n",
            "My name is Jerry from Chennai Batch April\n",
            "My name is Jerry from Muscat Batch April\n"
          ]
        }
      ]
    },
    {
      "cell_type": "code",
      "source": [],
      "metadata": {
        "id": "Iq8TFiaGFV1G"
      },
      "execution_count": null,
      "outputs": []
    }
  ]
}
