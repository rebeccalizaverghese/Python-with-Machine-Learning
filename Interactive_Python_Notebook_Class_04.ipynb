{
  "nbformat": 4,
  "nbformat_minor": 0,
  "metadata": {
    "colab": {
      "provenance": [],
      "authorship_tag": "ABX9TyM4QAn0fzD99UrOuYCRiwjf",
      "include_colab_link": true
    },
    "kernelspec": {
      "name": "python3",
      "display_name": "Python 3"
    },
    "language_info": {
      "name": "python"
    }
  },
  "cells": [
    {
      "cell_type": "markdown",
      "metadata": {
        "id": "view-in-github",
        "colab_type": "text"
      },
      "source": [
        "<a href=\"https://colab.research.google.com/github/rebeccalizaverghese/Python-with-Machine-Learning/blob/main/Interactive_Python_Notebook_Class_4.ipynb\" target=\"_parent\"><img src=\"https://colab.research.google.com/assets/colab-badge.svg\" alt=\"Open In Colab\"/></a>"
      ]
    },
    {
      "cell_type": "code",
      "execution_count": null,
      "metadata": {
        "id": "4ESsHPKMnWuq"
      },
      "outputs": [],
      "source": []
    },
    {
      "cell_type": "markdown",
      "source": [
        "Recap"
      ],
      "metadata": {
        "id": "ZpseQOmcwxTM"
      }
    },
    {
      "cell_type": "code",
      "source": [
        "#set - mutable - can be added/ combined/ n find common values/ remove values\n",
        "#union (|) - combines values of more than one set \n",
        "myset={10,9,76,4,12,3,2,4}\n",
        "myset.add(100)\n",
        "myset2= {1,2,3,4,5,6,7,8,9,10}\n",
        "myset3=myset.union(myset2)\n",
        "print(myset3)"
      ],
      "metadata": {
        "colab": {
          "base_uri": "https://localhost:8080/"
        },
        "id": "KBVsRoUZnbNt",
        "outputId": "b8ef7744-45a4-428f-dc3d-d37ee83c3952"
      },
      "execution_count": 2,
      "outputs": [
        {
          "output_type": "stream",
          "name": "stdout",
          "text": [
            "{1, 2, 3, 4, 100, 5, 6, 7, 9, 10, 8, 12, 76}\n"
          ]
        }
      ]
    },
    {
      "cell_type": "code",
      "source": [
        " mycource={\"physics\": \"modern\",\n",
        "           \"chemistry\":\"thermos\",\n",
        "           \"math\":\"differential equation\",\n",
        "           \"engneering practices\":\"raibarelly\",\n",
        "           \"community internship\":\"ranipur\",\n",
        "           \"core\":\"mathemathics and computing\" }\n",
        "\n",
        "a=mycource[\"physics\"]\n",
        "del mycource[\"physics\"]\n",
        "mycource[\"humanities\"]=a\n",
        "print(mycource)"
      ],
      "metadata": {
        "colab": {
          "base_uri": "https://localhost:8080/"
        },
        "id": "TdjzZX0lombf",
        "outputId": "12fa62ed-2039-42ea-dba9-9f867d6eb6b9"
      },
      "execution_count": 3,
      "outputs": [
        {
          "output_type": "stream",
          "name": "stdout",
          "text": [
            "{'chemistry': 'thermos', 'math': 'differential equation', 'engneering practices': 'raibarelly', 'community internship': 'ranipur', 'core': 'mathemathics and computing', 'humanities': 'modern'}\n"
          ]
        }
      ]
    },
    {
      "cell_type": "code",
      "source": [
        "set1={1,234,56,78,9,8}\n",
        "set2={22,34,56,78,9,0}\n",
        "set3=set1.union(set2)\n",
        "print(set3)"
      ],
      "metadata": {
        "colab": {
          "base_uri": "https://localhost:8080/"
        },
        "id": "ePt_L5nIqU5k",
        "outputId": "879a4b71-0ca0-4a44-bc07-a71dc2ab9eed"
      },
      "execution_count": 5,
      "outputs": [
        {
          "output_type": "stream",
          "name": "stdout",
          "text": [
            "{0, 1, 34, 8, 9, 234, 78, 22, 56}\n"
          ]
        }
      ]
    },
    {
      "cell_type": "code",
      "source": [
        "set4=set1|set2|set3\n",
        "print(\"the values are\", set4)"
      ],
      "metadata": {
        "colab": {
          "base_uri": "https://localhost:8080/"
        },
        "id": "wcLUQ7d6qtgC",
        "outputId": "b5c658d3-1db8-4106-c15f-119c8655cdb3"
      },
      "execution_count": 7,
      "outputs": [
        {
          "output_type": "stream",
          "name": "stdout",
          "text": [
            "the values are {0, 1, 34, 8, 9, 234, 78, 22, 56}\n"
          ]
        }
      ]
    },
    {
      "cell_type": "code",
      "source": [
        "#intersection (&) - prints common values stored in the sets\n",
        "set3=set1.intersection(set2)\n",
        "print(set3)\n"
      ],
      "metadata": {
        "colab": {
          "base_uri": "https://localhost:8080/"
        },
        "id": "KUDzTIkAq68D",
        "outputId": "f8d929fc-eea8-4f70-e24a-00139be06396"
      },
      "execution_count": 33,
      "outputs": [
        {
          "output_type": "stream",
          "name": "stdout",
          "text": [
            "{56, 9, 78}\n"
          ]
        }
      ]
    },
    {
      "cell_type": "code",
      "source": [
        "set1={1,234,56,78,9,8}\n",
        "set2={22,34,56,78,9,0}\n",
        "set3={1,23,45,6}\n",
        "set4=set1&set2&set3\n",
        "print(set4) #shows empry set because only when each set shows common values are they printed - when no common values (in all 3 sets) it shows empty set"
      ],
      "metadata": {
        "colab": {
          "base_uri": "https://localhost:8080/"
        },
        "id": "3A2roKKxrk6U",
        "outputId": "e8475aa2-4036-41e4-9a6c-df40449a0450"
      },
      "execution_count": 37,
      "outputs": [
        {
          "output_type": "stream",
          "name": "stdout",
          "text": [
            "set()\n"
          ]
        }
      ]
    },
    {
      "cell_type": "code",
      "source": [
        "set3.add(78) #in set we use add not append\n",
        "print(set3)# shows 78 as common value between set1, set2 and set3\n",
        "set3.remove(23)\n",
        "print(set3)\n",
        "set4=set1&set2&set3\n",
        "print(set4)"
      ],
      "metadata": {
        "colab": {
          "base_uri": "https://localhost:8080/"
        },
        "id": "QscEuEzjsQbh",
        "outputId": "263d0415-bdad-4962-fb61-1eb7999cfbf4"
      },
      "execution_count": 38,
      "outputs": [
        {
          "output_type": "stream",
          "name": "stdout",
          "text": [
            "{1, 6, 45, 78, 23}\n",
            "{1, 6, 45, 78}\n",
            "{78}\n"
          ]
        }
      ]
    },
    {
      "cell_type": "code",
      "source": [
        "#frozen set - enables unmodification of data - makes datas immutable\n",
        "set5=frozenset([9,0])\n",
        "print(set5)\n",
        "#add\n",
        "set5.add(8) #immutable -cannot be altered/updated\n",
        "print(set5) "
      ],
      "metadata": {
        "colab": {
          "base_uri": "https://localhost:8080/",
          "height": 235
        },
        "id": "0UqhXA2Ctodh",
        "outputId": "a154d016-c1fe-42bf-e3c2-4c310a033213"
      },
      "execution_count": 42,
      "outputs": [
        {
          "output_type": "stream",
          "name": "stdout",
          "text": [
            "frozenset({0, 9})\n"
          ]
        },
        {
          "output_type": "error",
          "ename": "AttributeError",
          "evalue": "ignored",
          "traceback": [
            "\u001b[0;31m---------------------------------------------------------------------------\u001b[0m",
            "\u001b[0;31mAttributeError\u001b[0m                            Traceback (most recent call last)",
            "\u001b[0;32m<ipython-input-42-d560cc5cec85>\u001b[0m in \u001b[0;36m<cell line: 5>\u001b[0;34m()\u001b[0m\n\u001b[1;32m      3\u001b[0m \u001b[0mprint\u001b[0m\u001b[0;34m(\u001b[0m\u001b[0mset5\u001b[0m\u001b[0;34m)\u001b[0m\u001b[0;34m\u001b[0m\u001b[0;34m\u001b[0m\u001b[0m\n\u001b[1;32m      4\u001b[0m \u001b[0;31m#add\u001b[0m\u001b[0;34m\u001b[0m\u001b[0;34m\u001b[0m\u001b[0m\n\u001b[0;32m----> 5\u001b[0;31m \u001b[0mset5\u001b[0m\u001b[0;34m.\u001b[0m\u001b[0madd\u001b[0m\u001b[0;34m(\u001b[0m\u001b[0;36m8\u001b[0m\u001b[0;34m)\u001b[0m \u001b[0;31m#immutable -cannot be altered/updated\u001b[0m\u001b[0;34m\u001b[0m\u001b[0;34m\u001b[0m\u001b[0m\n\u001b[0m\u001b[1;32m      6\u001b[0m \u001b[0mprint\u001b[0m\u001b[0;34m(\u001b[0m\u001b[0mset5\u001b[0m\u001b[0;34m)\u001b[0m\u001b[0;34m\u001b[0m\u001b[0;34m\u001b[0m\u001b[0m\n",
            "\u001b[0;31mAttributeError\u001b[0m: 'frozenset' object has no attribute 'add'"
          ]
        }
      ]
    },
    {
      "cell_type": "code",
      "source": [],
      "metadata": {
        "id": "8qZKszPxt0DR"
      },
      "execution_count": null,
      "outputs": []
    },
    {
      "cell_type": "markdown",
      "source": [
        "Class 4 - Functions, For loops"
      ],
      "metadata": {
        "id": "3ZNneB8sw5JN"
      }
    },
    {
      "cell_type": "code",
      "source": [
        "#Functions - set of instructions executed when called/invoked - avoids task repetition, time consumption\n",
        "# (def) keyword used to invoke/ create function\n",
        "print(\"Hello all\", \"\\nwelcome to the class\") #(\\n) => new line\n"
      ],
      "metadata": {
        "colab": {
          "base_uri": "https://localhost:8080/"
        },
        "id": "XGcoaYmNw717",
        "outputId": "662e353b-cbc7-4cda-e8aa-aa4620d089ad"
      },
      "execution_count": 43,
      "outputs": [
        {
          "output_type": "stream",
          "name": "stdout",
          "text": [
            "Hello all \n",
            "welcome to the class\n"
          ]
        }
      ]
    },
    {
      "cell_type": "code",
      "source": [
        "def a(): \n",
        "  print(\"Hello all\", \"\\nwelcome to the class\")\n",
        "a()\n",
        "a()"
      ],
      "metadata": {
        "colab": {
          "base_uri": "https://localhost:8080/"
        },
        "id": "oQbFGeCmx79b",
        "outputId": "b6f1315f-054f-478e-8ba5-5364516c73f8"
      },
      "execution_count": 51,
      "outputs": [
        {
          "output_type": "stream",
          "name": "stdout",
          "text": [
            "Hello all \n",
            "welcome to the class\n",
            "Hello all \n",
            "welcome to the class\n"
          ]
        }
      ]
    },
    {
      "cell_type": "code",
      "source": [
        "#Iterators - object that helps to print data one by one depending on two methods ie, 'iter' and 'next'\n",
        "list1=[233,4,56,7,8,0]\n",
        "print(\"the values of list is\", list1)"
      ],
      "metadata": {
        "colab": {
          "base_uri": "https://localhost:8080/"
        },
        "id": "niniUGPqzDTr",
        "outputId": "1eb03960-6dc9-4638-ed0d-db2d64942896"
      },
      "execution_count": 6,
      "outputs": [
        {
          "output_type": "stream",
          "name": "stdout",
          "text": [
            "the values of list is [233, 4, 56, 7, 8, 0]\n"
          ]
        }
      ]
    },
    {
      "cell_type": "code",
      "source": [
        "iteration=iter(list1)"
      ],
      "metadata": {
        "id": "eK_KK7CQ1_M2"
      },
      "execution_count": 7,
      "outputs": []
    },
    {
      "cell_type": "code",
      "source": [
        "print(next(iteration))"
      ],
      "metadata": {
        "colab": {
          "base_uri": "https://localhost:8080/"
        },
        "id": "b3ibZ3_c8tWP",
        "outputId": "ccb15447-55c6-4e82-de30-bb7c66bea0a0"
      },
      "execution_count": 8,
      "outputs": [
        {
          "output_type": "stream",
          "name": "stdout",
          "text": [
            "233\n"
          ]
        }
      ]
    },
    {
      "cell_type": "code",
      "source": [
        "#for loop\n",
        "list1=[233,4,56,7,8,0]\n",
        "for iter in list1:\n",
        "  print(\"the values of iter is\", iter)"
      ],
      "metadata": {
        "colab": {
          "base_uri": "https://localhost:8080/"
        },
        "id": "WIuPNy7m9Hbn",
        "outputId": "b41e3201-69a1-4e66-b882-5f09af562d10"
      },
      "execution_count": 10,
      "outputs": [
        {
          "output_type": "stream",
          "name": "stdout",
          "text": [
            "the values of iter is 233\n",
            "the values of iter is 4\n",
            "the values of iter is 56\n",
            "the values of iter is 7\n",
            "the values of iter is 8\n",
            "the values of iter is 0\n"
          ]
        }
      ]
    },
    {
      "cell_type": "code",
      "source": [
        "list1=[233,4,56,7,8,0]\n",
        "iteration= iter(list1)\n",
        "while True:\n",
        "  try:\n",
        "    element=next(iteration)\n",
        "  except StopIteration:\n",
        "    break"
      ],
      "metadata": {
        "colab": {
          "base_uri": "https://localhost:8080/",
          "height": 235
        },
        "id": "Bf-VaiHS9b3m",
        "outputId": "5100da47-38e8-4d91-be82-0b798a17a102"
      },
      "execution_count": 15,
      "outputs": [
        {
          "output_type": "error",
          "ename": "TypeError",
          "evalue": "ignored",
          "traceback": [
            "\u001b[0;31m---------------------------------------------------------------------------\u001b[0m",
            "\u001b[0;31mTypeError\u001b[0m                                 Traceback (most recent call last)",
            "\u001b[0;32m<ipython-input-15-f184bbd91415>\u001b[0m in \u001b[0;36m<cell line: 2>\u001b[0;34m()\u001b[0m\n\u001b[1;32m      1\u001b[0m \u001b[0mlist1\u001b[0m\u001b[0;34m=\u001b[0m\u001b[0;34m[\u001b[0m\u001b[0;36m233\u001b[0m\u001b[0;34m,\u001b[0m\u001b[0;36m4\u001b[0m\u001b[0;34m,\u001b[0m\u001b[0;36m56\u001b[0m\u001b[0;34m,\u001b[0m\u001b[0;36m7\u001b[0m\u001b[0;34m,\u001b[0m\u001b[0;36m8\u001b[0m\u001b[0;34m,\u001b[0m\u001b[0;36m0\u001b[0m\u001b[0;34m]\u001b[0m\u001b[0;34m\u001b[0m\u001b[0;34m\u001b[0m\u001b[0m\n\u001b[0;32m----> 2\u001b[0;31m \u001b[0miteration\u001b[0m\u001b[0;34m=\u001b[0m \u001b[0miter\u001b[0m\u001b[0;34m(\u001b[0m\u001b[0;34m'list1'\u001b[0m\u001b[0;34m)\u001b[0m\u001b[0;34m\u001b[0m\u001b[0;34m\u001b[0m\u001b[0m\n\u001b[0m\u001b[1;32m      3\u001b[0m \u001b[0;32mwhile\u001b[0m \u001b[0;32mTrue\u001b[0m\u001b[0;34m:\u001b[0m\u001b[0;34m\u001b[0m\u001b[0;34m\u001b[0m\u001b[0m\n\u001b[1;32m      4\u001b[0m   \u001b[0;32mtry\u001b[0m\u001b[0;34m:\u001b[0m\u001b[0;34m\u001b[0m\u001b[0;34m\u001b[0m\u001b[0m\n\u001b[1;32m      5\u001b[0m     \u001b[0melement\u001b[0m\u001b[0;34m=\u001b[0m\u001b[0mnext\u001b[0m\u001b[0;34m(\u001b[0m\u001b[0miteration\u001b[0m\u001b[0;34m)\u001b[0m\u001b[0;34m\u001b[0m\u001b[0;34m\u001b[0m\u001b[0m\n",
            "\u001b[0;31mTypeError\u001b[0m: 'int' object is not callable"
          ]
        }
      ]
    },
    {
      "cell_type": "code",
      "source": [
        "#name is a parameter\n",
        "# Sailor Moon is an arguement\n",
        "def b(name):\n",
        "  for x in range(5): #to loop data 5 times\n",
        "    print (\"My favourite cartoon name is\", name)\n",
        "b(\"Sailor Moon\")"
      ],
      "metadata": {
        "colab": {
          "base_uri": "https://localhost:8080/"
        },
        "id": "rk3BvX74943j",
        "outputId": "69ea7a7b-cbde-4c0d-8459-0652d1143e1c"
      },
      "execution_count": 22,
      "outputs": [
        {
          "output_type": "stream",
          "name": "stdout",
          "text": [
            "My favourite cartoon name is Sailor Moon\n",
            "My favourite cartoon name is Sailor Moon\n",
            "My favourite cartoon name is Sailor Moon\n",
            "My favourite cartoon name is Sailor Moon\n",
            "My favourite cartoon name is Sailor Moon\n"
          ]
        }
      ]
    },
    {
      "cell_type": "code",
      "source": [
        "def calc(num1,num2):\n",
        "  print(\"the sum of two values are\", (num1+num2))\n",
        "  print(\"the difference of two values are\", (num1-num2))\n",
        "  print(\"the product is\", (num1*num2))\n",
        "\n",
        "calc(33,3)\n",
        "calc(13,3)"
      ],
      "metadata": {
        "colab": {
          "base_uri": "https://localhost:8080/"
        },
        "id": "Midp1pYk-zgu",
        "outputId": "1f816e24-b297-4157-ab01-25588b1d18f3"
      },
      "execution_count": 24,
      "outputs": [
        {
          "output_type": "stream",
          "name": "stdout",
          "text": [
            "the sum of two values are 36\n",
            "the difference of two values are 30\n",
            "the product is 99\n",
            "the sum of two values are 16\n",
            "the difference of two values are 10\n",
            "the product is 39\n"
          ]
        }
      ]
    },
    {
      "cell_type": "code",
      "source": [
        "def a1():\n",
        "  name=input(\"Enter the name: \")\n",
        "  print(\"His name is\", name)\n",
        "\n",
        "a1()"
      ],
      "metadata": {
        "colab": {
          "base_uri": "https://localhost:8080/"
        },
        "id": "h5rP4PijAFQT",
        "outputId": "21788830-e3be-4dfc-8135-6e3468a5c9ed"
      },
      "execution_count": 30,
      "outputs": [
        {
          "output_type": "stream",
          "name": "stdout",
          "text": [
            "Enter the name: Abe Jackson\n",
            "His name is Abe Jackson\n"
          ]
        }
      ]
    },
    {
      "cell_type": "code",
      "source": [
        "def math():\n",
        "  x=int(input(\"The value is\"))\n",
        "  y=int(input(\"The value is\"))\n",
        "  print(\"Sum :\", (x+y))\n",
        "  print(\"Difference :\", (x-y))\n",
        "  print(\"Product :\", (x*y))\n",
        "  print(\"Quotient :\", (x/y))\n",
        "\n",
        "math()\n"
      ],
      "metadata": {
        "colab": {
          "base_uri": "https://localhost:8080/"
        },
        "id": "PzsNkLilAgT4",
        "outputId": "72762269-70b5-4986-f3b1-d02cdd632e7b"
      },
      "execution_count": 41,
      "outputs": [
        {
          "output_type": "stream",
          "name": "stdout",
          "text": [
            "The value is33\n",
            "The value is3\n",
            "Sum : 36\n",
            "Difference : 30\n",
            "Product : 99\n",
            "Quotient : 11.0\n"
          ]
        }
      ]
    },
    {
      "cell_type": "code",
      "source": [
        "def table():\n",
        "  n=int(input(\"Enter a number\"))\n",
        "  for i in range (1,11):\n",
        "    print(n,\"*\",i,\"=\",n*i)\n",
        "table()"
      ],
      "metadata": {
        "colab": {
          "base_uri": "https://localhost:8080/"
        },
        "id": "DeMJSfXRDc4G",
        "outputId": "aa4a2681-fe2a-4078-c63d-4c4bb102e726"
      },
      "execution_count": 44,
      "outputs": [
        {
          "output_type": "stream",
          "name": "stdout",
          "text": [
            "Enter a number3\n",
            "3 * 1 = 3\n",
            "3 * 2 = 6\n",
            "3 * 3 = 9\n",
            "3 * 4 = 12\n",
            "3 * 5 = 15\n",
            "3 * 6 = 18\n",
            "3 * 7 = 21\n",
            "3 * 8 = 24\n",
            "3 * 9 = 27\n",
            "3 * 10 = 30\n"
          ]
        }
      ]
    },
    {
      "cell_type": "code",
      "source": [
        "def a(): \n",
        "  num=int(input(\"Enter a value\"))\n",
        "  for iter in range(1,11):\n",
        "    print(iter*num)\n",
        "a()"
      ],
      "metadata": {
        "colab": {
          "base_uri": "https://localhost:8080/"
        },
        "id": "pfRsPNWHGmFe",
        "outputId": "dec51e0f-8855-45be-97eb-f386b1f221c0"
      },
      "execution_count": 49,
      "outputs": [
        {
          "output_type": "stream",
          "name": "stdout",
          "text": [
            "Enter a value5\n",
            "5\n",
            "10\n",
            "15\n",
            "20\n",
            "25\n",
            "30\n",
            "35\n",
            "40\n",
            "45\n",
            "50\n"
          ]
        }
      ]
    },
    {
      "cell_type": "code",
      "source": [],
      "metadata": {
        "id": "7lpPj_ZOHwsZ"
      },
      "execution_count": null,
      "outputs": []
    }
  ]
}
