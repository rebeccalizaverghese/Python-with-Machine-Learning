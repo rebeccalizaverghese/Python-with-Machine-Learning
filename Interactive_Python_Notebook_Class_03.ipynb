{
  "nbformat": 4,
  "nbformat_minor": 0,
  "metadata": {
    "colab": {
      "provenance": [],
      "authorship_tag": "ABX9TyPJ4OiH+QjmOxg+YYq2NEnD",
      "include_colab_link": true
    },
    "kernelspec": {
      "name": "python3",
      "display_name": "Python 3"
    },
    "language_info": {
      "name": "python"
    }
  },
  "cells": [
    {
      "cell_type": "markdown",
      "metadata": {
        "id": "view-in-github",
        "colab_type": "text"
      },
      "source": [
        "<a href=\"https://colab.research.google.com/github/rebeccalizaverghese/Python-with-Machine-Learning/blob/main/Interactive_Phython_Notebook_Class_3.ipynb\" target=\"_parent\"><img src=\"https://colab.research.google.com/assets/colab-badge.svg\" alt=\"Open In Colab\"/></a>"
      ]
    },
    {
      "cell_type": "code",
      "execution_count": null,
      "metadata": {
        "colab": {
          "base_uri": "https://localhost:8080/"
        },
        "id": "ByOLZHQQe4Ge",
        "outputId": "b60884a2-421e-4f82-c44d-4d15b5772d35"
      },
      "outputs": [
        {
          "output_type": "stream",
          "name": "stdout",
          "text": [
            "{'Username': 'Admin', 'Password': 1234, 'Batch': 2023}\n",
            "<class 'dict'>\n",
            "3\n"
          ]
        }
      ],
      "source": [
        "# Dictionary '{}' - collection of values/data types(string, int, etc) stored in one variable - does not contain duplicate values - format of key and values - mutable\n",
        "mydic={\"Username\":\"Admin\",\n",
        "       \"Password\":1234,\n",
        "       \"Batch\":2023}\n",
        "print(mydic)\n",
        "print(type(mydic))\n",
        "print(len(mydic)) #len starts from 1 - prints individual data"
      ]
    },
    {
      "cell_type": "code",
      "source": [
        "print(mydic[0])\n",
        "#index no. not applicable in dictionary"
      ],
      "metadata": {
        "colab": {
          "base_uri": "https://localhost:8080/",
          "height": 183
        },
        "id": "Kg_QPz__f7RD",
        "outputId": "4bf35dc0-64f0-434d-b543-e3c9d7893034"
      },
      "execution_count": null,
      "outputs": [
        {
          "output_type": "error",
          "ename": "KeyError",
          "evalue": "ignored",
          "traceback": [
            "\u001b[0;31m---------------------------------------------------------------------------\u001b[0m",
            "\u001b[0;31mKeyError\u001b[0m                                  Traceback (most recent call last)",
            "\u001b[0;32m<ipython-input-46-637b4f033f39>\u001b[0m in \u001b[0;36m<cell line: 1>\u001b[0;34m()\u001b[0m\n\u001b[0;32m----> 1\u001b[0;31m \u001b[0mprint\u001b[0m\u001b[0;34m(\u001b[0m\u001b[0mmydic\u001b[0m\u001b[0;34m[\u001b[0m\u001b[0;36m0\u001b[0m\u001b[0;34m]\u001b[0m\u001b[0;34m)\u001b[0m\u001b[0;34m\u001b[0m\u001b[0;34m\u001b[0m\u001b[0m\n\u001b[0m\u001b[1;32m      2\u001b[0m \u001b[0;31m#index no. not applicable in dictionary\u001b[0m\u001b[0;34m\u001b[0m\u001b[0;34m\u001b[0m\u001b[0m\n",
            "\u001b[0;31mKeyError\u001b[0m: 0"
          ]
        }
      ]
    },
    {
      "cell_type": "code",
      "source": [
        "#Keys in dictionary used to update/modify/ print values\n",
        "#update\n",
        "mydic[\"Password\"]=890\n",
        "print(\"The values are\",mydic)\n",
        "#Add\n",
        "mydic[\"Month\"]=\"April\"\n",
        "mydic[\"Mail\"]=\"abc@gmail.com\"\n",
        "print(\"the values are\", mydic)\n",
        "#Add multiple values\n",
        "mydic[\"Password\"]= 890, 330\n",
        "print(\"the values are\", mydic)\n",
        "#Delete keys\n",
        "a=mydic[\"Mail\"]\n",
        "del mydic[\"Mail\"]\n",
        "print(mydic)\n",
        "#Replace Key\n",
        "mydic[\"Account\"]=a\n",
        "print(mydic)"
      ],
      "metadata": {
        "colab": {
          "base_uri": "https://localhost:8080/"
        },
        "id": "Clle5UqnglPL",
        "outputId": "db2646d2-daac-4a16-86ab-9147a9d5443d"
      },
      "execution_count": null,
      "outputs": [
        {
          "output_type": "stream",
          "name": "stdout",
          "text": [
            "The values are {'Username': 'Admin', 'Password': 890, 'Batch': 2023}\n",
            "the values are {'Username': 'Admin', 'Password': 890, 'Batch': 2023, 'Month': 'April', 'Mail': 'abc@gmail.com'}\n",
            "the values are {'Username': 'Admin', 'Password': (890, 330), 'Batch': 2023, 'Month': 'April', 'Mail': 'abc@gmail.com'}\n",
            "{'Username': 'Admin', 'Password': (890, 330), 'Batch': 2023, 'Month': 'April'}\n",
            "{'Username': 'Admin', 'Password': (890, 330), 'Batch': 2023, 'Month': 'April', 'Account': 'abc@gmail.com'}\n"
          ]
        }
      ]
    },
    {
      "cell_type": "code",
      "source": [],
      "metadata": {
        "id": "U9zPIbtSpi0c"
      },
      "execution_count": null,
      "outputs": []
    },
    {
      "cell_type": "code",
      "source": [
        "#Deleting key first\n",
        "dic1={\"a\":2,\"b\":3}\n",
        "print(dic1)\n",
        "a=dic1[\"b\"] #create variable and assign key to it\n",
        "del dic1[\"b\"]\n",
        "dic1\n",
        "#Replacing deleted Keys and assigning empty value to new key\n",
        "dic1[\"c\"]=a\n",
        "print(dic1)"
      ],
      "metadata": {
        "colab": {
          "base_uri": "https://localhost:8080/"
        },
        "id": "0otqQFU1jS5s",
        "outputId": "9f2c7ea0-f4ee-4610-98cf-f6554332b17d"
      },
      "execution_count": null,
      "outputs": [
        {
          "output_type": "stream",
          "name": "stdout",
          "text": [
            "{'a': 2, 'b': 3}\n",
            "{'a': 2, 'c': 3}\n"
          ]
        }
      ]
    },
    {
      "cell_type": "code",
      "source": [
        "a= mydic[\"Batch\"]\n",
        "del mydic[\"Batch\"]\n",
        "print(mydic)\n",
        "mydic[\"Year\"]= a\n",
        "print(mydic)"
      ],
      "metadata": {
        "colab": {
          "base_uri": "https://localhost:8080/"
        },
        "id": "5P51UFmyluaR",
        "outputId": "ad6fa782-8eaf-455d-ce7f-f9631e38852b"
      },
      "execution_count": null,
      "outputs": [
        {
          "output_type": "stream",
          "name": "stdout",
          "text": [
            "{'Username': 'Admin', 'Password': (890, 330), 'Month': 'April', 'Account': 'abc@gmail.com'}\n",
            "{'Username': 'Admin', 'Password': (890, 330), 'Month': 'April', 'Account': 'abc@gmail.com', 'Year': 2023}\n"
          ]
        }
      ]
    },
    {
      "cell_type": "code",
      "source": [
        "#set '{}' -  unordered collection of datatypes - does not contain duplicates\n",
        "myset={123,45,67,890,5,5}\n",
        "print(myset) #does not show 2nd 5/ randomly prints datas\n",
        "print(type(myset))"
      ],
      "metadata": {
        "colab": {
          "base_uri": "https://localhost:8080/"
        },
        "id": "OVi8Sucun3gH",
        "outputId": "12816583-e97e-49c2-ff03-b18e78a7199b"
      },
      "execution_count": null,
      "outputs": [
        {
          "output_type": "stream",
          "name": "stdout",
          "text": [
            "{67, 5, 890, 123, 45}\n",
            "<class 'set'>\n"
          ]
        }
      ]
    },
    {
      "cell_type": "code",
      "source": [
        "print(myset[3])\n",
        "#Index nos. not applicable"
      ],
      "metadata": {
        "colab": {
          "base_uri": "https://localhost:8080/",
          "height": 166
        },
        "id": "AShp2NSOotWI",
        "outputId": "91e8352d-bcc5-418c-dab6-00bef76f997f"
      },
      "execution_count": null,
      "outputs": [
        {
          "output_type": "error",
          "ename": "TypeError",
          "evalue": "ignored",
          "traceback": [
            "\u001b[0;31m---------------------------------------------------------------------------\u001b[0m",
            "\u001b[0;31mTypeError\u001b[0m                                 Traceback (most recent call last)",
            "\u001b[0;32m<ipython-input-44-e4a3286d695d>\u001b[0m in \u001b[0;36m<cell line: 1>\u001b[0;34m()\u001b[0m\n\u001b[0;32m----> 1\u001b[0;31m \u001b[0mprint\u001b[0m\u001b[0;34m(\u001b[0m\u001b[0mmyset\u001b[0m\u001b[0;34m[\u001b[0m\u001b[0;36m3\u001b[0m\u001b[0;34m]\u001b[0m\u001b[0;34m)\u001b[0m\u001b[0;34m\u001b[0m\u001b[0;34m\u001b[0m\u001b[0m\n\u001b[0m",
            "\u001b[0;31mTypeError\u001b[0m: 'set' object is not subscriptable"
          ]
        }
      ]
    },
    {
      "cell_type": "code",
      "source": [
        "dic3={\n",
        "    \"Name\":\"Abe\",\n",
        "    \"Gender\":\"M\",\n",
        "    \"Age\": 33,\n",
        "    \"Number\":123456789,\n",
        "    \"Color\":\"Blue\",\n",
        "    \"Status\":\"Married\"\n",
        "}\n",
        "print(dic3)"
      ],
      "metadata": {
        "colab": {
          "base_uri": "https://localhost:8080/"
        },
        "id": "Jr3MmcV3qQof",
        "outputId": "e5fa4641-7563-46e2-bc19-e41978c77988"
      },
      "execution_count": null,
      "outputs": [
        {
          "output_type": "stream",
          "name": "stdout",
          "text": [
            "{'Name': 'Abe', 'Gender': 'M', 'Age': 33, 'Number': 123456789, 'Color': 'Blue', 'Status': 'Married'}\n"
          ]
        }
      ]
    },
    {
      "cell_type": "code",
      "source": [
        "dic4={\n",
        "    \"Name\":\"Thalia\",\n",
        "    \"Gender\":\"F\",\n",
        "    \"Age\":28,\n",
        "    \"Number\":987654321,\n",
        "    \"Color\":\"Electric Blue\",\n",
        "    \"Status\":\"Married\"\n",
        "}\n",
        "print(dic4)"
      ],
      "metadata": {
        "colab": {
          "base_uri": "https://localhost:8080/"
        },
        "id": "l-1rWUcmq30p",
        "outputId": "a71e3b0e-a83d-4201-cdd1-391d56ed3321"
      },
      "execution_count": null,
      "outputs": [
        {
          "output_type": "stream",
          "name": "stdout",
          "text": [
            "{'Name': 'Thalia', 'Gender': 'F', 'Age': 28, 'Number': 987654321, 'Color': 'Electric Blue', 'Status': 'Married'}\n"
          ]
        }
      ]
    },
    {
      "cell_type": "code",
      "source": [
        "set1={1,5,5,5,2,3,4,5,6,7,8,9,10}\n",
        "set2={12,34,45,45,56,67,78,89,89,90}\n",
        "#Different types operations performed in set\n",
        "#combining values(union)\n",
        "set3=set1.union(set2)\n",
        "print(set3)"
      ],
      "metadata": {
        "colab": {
          "base_uri": "https://localhost:8080/"
        },
        "id": "i4qBRvipr6kJ",
        "outputId": "879d5bcd-1f97-41c0-f43e-e75f805a9a88"
      },
      "execution_count": null,
      "outputs": [
        {
          "output_type": "stream",
          "name": "stdout",
          "text": [
            "{1, 2, 3, 4, 5, 6, 7, 8, 9, 10, 34, 67, 12, 45, 78, 56, 89, 90}\n"
          ]
        }
      ]
    },
    {
      "cell_type": "code",
      "source": [],
      "metadata": {
        "id": "io_XrLFWsGOj"
      },
      "execution_count": null,
      "outputs": []
    }
  ]
}
