{
  "nbformat": 4,
  "nbformat_minor": 0,
  "metadata": {
    "colab": {
      "provenance": [],
      "authorship_tag": "ABX9TyN/OOSNRULHBJkOjveblp5j",
      "include_colab_link": true
    },
    "kernelspec": {
      "name": "python3",
      "display_name": "Python 3"
    },
    "language_info": {
      "name": "python"
    }
  },
  "cells": [
    {
      "cell_type": "markdown",
      "metadata": {
        "id": "view-in-github",
        "colab_type": "text"
      },
      "source": [
        "<a href=\"https://colab.research.google.com/github/rebeccalizaverghese/Python-with-Machine-Learning/blob/main/Interactive_Python_Notebook_Class_12.ipynb\" target=\"_parent\"><img src=\"https://colab.research.google.com/assets/colab-badge.svg\" alt=\"Open In Colab\"/></a>"
      ]
    },
    {
      "cell_type": "markdown",
      "source": [
        "**Class 12**"
      ],
      "metadata": {
        "id": "fCs1Wa-JnMLd"
      }
    },
    {
      "cell_type": "code",
      "source": [
        "#Generators -> is a special type of function that helps to iterate (help to print values individually - one by one) the values \n",
        "  #Method/keywords  - yield (generate a series of specific value one at a time rather than return a single value & exiting) & next(used to print)\n",
        "def gen(x):\n",
        "  yield x+6\n",
        "  yield x-16\n",
        "y=gen(10)\n",
        "print(next(y))\n"
      ],
      "metadata": {
        "colab": {
          "base_uri": "https://localhost:8080/"
        },
        "id": "5Nyep7d_nPHa",
        "outputId": "b3a47d28-258c-4679-f0ab-727c6947c68a"
      },
      "execution_count": 3,
      "outputs": [
        {
          "output_type": "stream",
          "name": "stdout",
          "text": [
            "16\n"
          ]
        }
      ]
    },
    {
      "cell_type": "code",
      "source": [
        "def gen1(a):\n",
        "  for x in range(a):\n",
        "    yield x #to generate values from 0-a(8)\n",
        "gen=gen1(8)\n",
        "for y in gen:\n",
        "  print(y) #to print single values at a time"
      ],
      "metadata": {
        "colab": {
          "base_uri": "https://localhost:8080/"
        },
        "id": "VA9nHCKLpOqt",
        "outputId": "f910e5ae-43b6-4ae2-e7e5-89029277d1cf"
      },
      "execution_count": 5,
      "outputs": [
        {
          "output_type": "stream",
          "name": "stdout",
          "text": [
            "0\n",
            "1\n",
            "2\n",
            "3\n",
            "4\n",
            "5\n",
            "6\n",
            "7\n"
          ]
        }
      ]
    },
    {
      "cell_type": "code",
      "source": [
        "def gen1(a):\n",
        "  for x in range(a):\n",
        "    yield x+10\n",
        "    yield(x-10)\n",
        "gen=gen1(8)\n",
        "for y in gen: \n",
        "  print(y)"
      ],
      "metadata": {
        "colab": {
          "base_uri": "https://localhost:8080/"
        },
        "id": "sPbQOG4zqAHu",
        "outputId": "92dda8fe-29fa-4e52-9457-715d6f8b32dd"
      },
      "execution_count": 6,
      "outputs": [
        {
          "output_type": "stream",
          "name": "stdout",
          "text": [
            "10\n",
            "-10\n",
            "11\n",
            "-9\n",
            "12\n",
            "-8\n",
            "13\n",
            "-7\n",
            "14\n",
            "-6\n",
            "15\n",
            "-5\n",
            "16\n",
            "-4\n",
            "17\n",
            "-3\n"
          ]
        }
      ]
    },
    {
      "cell_type": "code",
      "source": [
        "import random\n",
        "def random_number():\n",
        "  while True:\n",
        "    num=random.random()\n",
        "    yield num\n",
        "rand=random_number()\n",
        "print(next(rand))\n",
        "print(next(rand))"
      ],
      "metadata": {
        "colab": {
          "base_uri": "https://localhost:8080/"
        },
        "id": "ZDPLW49Mr34f",
        "outputId": "dd3d0bc1-3675-41f4-df09-9ad0c715c6ed"
      },
      "execution_count": 29,
      "outputs": [
        {
          "output_type": "stream",
          "name": "stdout",
          "text": [
            "0.6443815805755856\n",
            "0.0637781513549609\n"
          ]
        }
      ]
    },
    {
      "cell_type": "code",
      "source": [
        "#Normal function\n",
        "def calc(a,b):\n",
        "  print(\"The sum of two values\", a+b)\n",
        "\n",
        "calc(30,3)"
      ],
      "metadata": {
        "colab": {
          "base_uri": "https://localhost:8080/"
        },
        "id": "eRmxpImvtrUW",
        "outputId": "f8e15e16-f486-4304-9092-10e5ab2c0ba2"
      },
      "execution_count": 33,
      "outputs": [
        {
          "output_type": "stream",
          "name": "stdout",
          "text": [
            "The sum of two values 33\n"
          ]
        }
      ]
    },
    {
      "cell_type": "code",
      "source": [
        "#Lambda Function -> is an anonymous, small and concise function that can take any number of arguements\n",
        " #but can only have one expression at a time\n",
        "\n",
        "x=lambda x:x+10 #x- variable x+10- parameter\n",
        "print(\"The values are\",x(2))"
      ],
      "metadata": {
        "colab": {
          "base_uri": "https://localhost:8080/"
        },
        "id": "tdwYIYv3xEhJ",
        "outputId": "53518119-eb31-4763-b82b-da7a7b3ffcfe"
      },
      "execution_count": 35,
      "outputs": [
        {
          "output_type": "stream",
          "name": "stdout",
          "text": [
            "The values are 12\n"
          ]
        }
      ]
    },
    {
      "cell_type": "code",
      "source": [
        "a=lambda x,y,z:x+y-z\n",
        "print(a(2,3,6))"
      ],
      "metadata": {
        "colab": {
          "base_uri": "https://localhost:8080/"
        },
        "id": "MlYdzOS2xqol",
        "outputId": "dcab2d9b-dda7-4aac-aaca-f4dde0c37130"
      },
      "execution_count": 36,
      "outputs": [
        {
          "output_type": "stream",
          "name": "stdout",
          "text": [
            "-1\n"
          ]
        }
      ]
    },
    {
      "cell_type": "code",
      "source": [
        "print((lambda a,b,c:a+b*c)(1,2,3))"
      ],
      "metadata": {
        "colab": {
          "base_uri": "https://localhost:8080/"
        },
        "id": "hj0Bdtdax-E0",
        "outputId": "abd91859-1603-45d5-84b1-0d22dbd33c05"
      },
      "execution_count": 38,
      "outputs": [
        {
          "output_type": "stream",
          "name": "stdout",
          "text": [
            "7\n"
          ]
        }
      ]
    },
    {
      "cell_type": "code",
      "source": [
        "tables=[lambda x=x:x*10 for x in range(1,11)]\n",
        "for table in tables: \n",
        "  print(table())"
      ],
      "metadata": {
        "colab": {
          "base_uri": "https://localhost:8080/"
        },
        "id": "SiPav3jByGx-",
        "outputId": "0185772b-be71-445c-df7c-c0c991b3d49f"
      },
      "execution_count": 43,
      "outputs": [
        {
          "output_type": "stream",
          "name": "stdout",
          "text": [
            "10\n",
            "20\n",
            "30\n",
            "40\n",
            "50\n",
            "60\n",
            "70\n",
            "80\n",
            "90\n",
            "100\n"
          ]
        }
      ]
    },
    {
      "cell_type": "code",
      "source": [
        "y=lambda a,b:a if (a>b) else b\n",
        "print(y(3,2))\n",
        "print(y(3,6))"
      ],
      "metadata": {
        "colab": {
          "base_uri": "https://localhost:8080/"
        },
        "id": "12sTpScdys3d",
        "outputId": "ba1bb59e-064b-43c0-8299-55c4e508c8ef"
      },
      "execution_count": 45,
      "outputs": [
        {
          "output_type": "stream",
          "name": "stdout",
          "text": [
            "3\n",
            "6\n"
          ]
        }
      ]
    },
    {
      "cell_type": "code",
      "source": [
        "#python decorators -> allows users to modify or add new functionalities to existing object without modifying the structure\n",
        "def a():\n",
        "  print(\"Hello and Welcome All\")\n",
        "b=a() #passing function to variable (b)\n",
        "b\n",
        "a()"
      ],
      "metadata": {
        "colab": {
          "base_uri": "https://localhost:8080/"
        },
        "id": "wN8apxOozi-a",
        "outputId": "d9dfcb64-6890-4202-9c35-f8891730bbc2"
      },
      "execution_count": 46,
      "outputs": [
        {
          "output_type": "stream",
          "name": "stdout",
          "text": [
            "Hello and Welcome All\n",
            "Hello and Welcome All\n"
          ]
        }
      ]
    },
    {
      "cell_type": "code",
      "source": [
        "def increment(num1):\n",
        "  return num1+10\n",
        "def decrement(num1):\n",
        "  return num1-1"
      ],
      "metadata": {
        "id": "f6CYRHiD0st7"
      },
      "execution_count": 48,
      "outputs": []
    },
    {
      "cell_type": "code",
      "source": [
        "def incdec(func,num):\n",
        "  result=func(num)\n",
        "  return result\n",
        "print(incdec(increment,3.7))\n",
        "print(incdec(decrement,3.7))\n"
      ],
      "metadata": {
        "colab": {
          "base_uri": "https://localhost:8080/"
        },
        "id": "ucQM1AVr08xg",
        "outputId": "95578252-4119-48f8-ea83-e7003e7532ed"
      },
      "execution_count": 52,
      "outputs": [
        {
          "output_type": "stream",
          "name": "stdout",
          "text": [
            "13.7\n",
            "2.7\n"
          ]
        }
      ]
    },
    {
      "cell_type": "code",
      "source": [
        "def simple():\n",
        "  print(\"Welcome to Python World\")"
      ],
      "metadata": {
        "id": "D_iIaKOK1R1z"
      },
      "execution_count": 57,
      "outputs": []
    },
    {
      "cell_type": "code",
      "source": [
        "def special(func):\n",
        "  def a():\n",
        "    print(\"Introduction to Python\")\n",
        "    func()\n",
        "  return a()\n",
        "\n",
        "special(simple)"
      ],
      "metadata": {
        "colab": {
          "base_uri": "https://localhost:8080/"
        },
        "id": "kDbnFCmK1_Fc",
        "outputId": "e298a1ee-ce35-40f2-d95d-3dd299e68b84"
      },
      "execution_count": 59,
      "outputs": [
        {
          "output_type": "stream",
          "name": "stdout",
          "text": [
            "Introduction to Python\n",
            "Welcome to Python World\n"
          ]
        }
      ]
    },
    {
      "cell_type": "code",
      "source": [],
      "metadata": {
        "id": "DFsV-M3d2Q0k"
      },
      "execution_count": null,
      "outputs": []
    }
  ]
}