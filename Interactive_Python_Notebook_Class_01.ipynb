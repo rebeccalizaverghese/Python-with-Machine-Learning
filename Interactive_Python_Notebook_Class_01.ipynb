{
  "nbformat": 4,
  "nbformat_minor": 0,
  "metadata": {
    "colab": {
      "provenance": [],
      "authorship_tag": "ABX9TyPO9Trdxaj+D5pkeXE5AK7Y",
      "include_colab_link": true
    },
    "kernelspec": {
      "name": "python3",
      "display_name": "Python 3"
    },
    "language_info": {
      "name": "python"
    }
  },
  "cells": [
    {
      "cell_type": "markdown",
      "metadata": {
        "id": "view-in-github",
        "colab_type": "text"
      },
      "source": [
        "<a href=\"https://colab.research.google.com/github/rebeccalizaverghese/Python-with-Machine-Learning/blob/main/Interactive_Python_Notebook_Class_1.ipynb\" target=\"_parent\"><img src=\"https://colab.research.google.com/assets/colab-badge.svg\" alt=\"Open In Colab\"/></a>"
      ]
    },
    {
      "cell_type": "code",
      "execution_count": null,
      "metadata": {
        "colab": {
          "base_uri": "https://localhost:8080/",
          "height": 35
        },
        "id": "PgP3ft0h1DyZ",
        "outputId": "fc641893-93d4-4691-a026-63703e7400ed"
      },
      "outputs": [
        {
          "output_type": "execute_result",
          "data": {
            "text/plain": [
              "'Class 1'"
            ],
            "application/vnd.google.colaboratory.intrinsic+json": {
              "type": "string"
            }
          },
          "metadata": {},
          "execution_count": 3
        }
      ],
      "source": [
        "'Class 1'"
      ]
    },
    {
      "cell_type": "code",
      "source": [
        "print(\"Hello All\")"
      ],
      "metadata": {
        "colab": {
          "base_uri": "https://localhost:8080/"
        },
        "id": "Ur2lZIH12Qh-",
        "outputId": "df12b621-3066-434e-bd3e-41f399c791ed"
      },
      "execution_count": null,
      "outputs": [
        {
          "output_type": "stream",
          "name": "stdout",
          "text": [
            "Hello All\n"
          ]
        }
      ]
    },
    {
      "cell_type": "code",
      "source": [
        "# (#) represents comments\n",
        "# variable -> a container that has the capability to store multiple values\n",
        "num1=100\n",
        "print(num1)\n",
        "print(type(num1))"
      ],
      "metadata": {
        "colab": {
          "base_uri": "https://localhost:8080/"
        },
        "id": "fWLAkkER2hpN",
        "outputId": "2b99dd95-987a-41a2-e5cb-27885358618f"
      },
      "execution_count": null,
      "outputs": [
        {
          "output_type": "stream",
          "name": "stdout",
          "text": [
            "100\n",
            "<class 'int'>\n"
          ]
        }
      ]
    },
    {
      "cell_type": "code",
      "source": [
        "import typing\n",
        "#float -> which contains decimal nos\n",
        "num2=100.99\n",
        "print(num2)\n",
        "print(type(num2))"
      ],
      "metadata": {
        "colab": {
          "base_uri": "https://localhost:8080/"
        },
        "id": "3Yn3-Zs04mfc",
        "outputId": "301c05f2-ee1b-451d-a136-77cfca5c4f84"
      },
      "execution_count": null,
      "outputs": [
        {
          "output_type": "stream",
          "name": "stdout",
          "text": [
            "100.99\n",
            "<class 'float'>\n"
          ]
        }
      ]
    },
    {
      "cell_type": "code",
      "source": [
        "#string -> characters written in single/double quotation\n",
        "name=\"Rebecca\"\n",
        "print(name)\n",
        "print(type(name))"
      ],
      "metadata": {
        "colab": {
          "base_uri": "https://localhost:8080/"
        },
        "id": "wJap3KRH5han",
        "outputId": "a816b64e-5c35-4354-be7d-0842bfa014aa"
      },
      "execution_count": null,
      "outputs": [
        {
          "output_type": "stream",
          "name": "stdout",
          "text": [
            "Rebecca\n",
            "<class 'str'>\n"
          ]
        }
      ]
    },
    {
      "cell_type": "code",
      "source": [
        "num3=300\n",
        "num4=33.33\n",
        "sum=num3+num4\n",
        "print(sum)\n",
        "#concatenation -> combining 2 data types\n",
        "print(\"the sum of two values is\", sum)\n",
        "print(type(sum))"
      ],
      "metadata": {
        "colab": {
          "base_uri": "https://localhost:8080/"
        },
        "id": "ntSivA686HA1",
        "outputId": "29fbb9fe-1fb9-42fe-e0b6-55eb3cd01dc9"
      },
      "execution_count": null,
      "outputs": [
        {
          "output_type": "stream",
          "name": "stdout",
          "text": [
            "333.33\n",
            "the sum of two values is 333.33\n",
            "<class 'float'>\n"
          ]
        }
      ]
    },
    {
      "cell_type": "code",
      "source": [
        "x=33\n",
        "y=3\n",
        "difference=x-y\n",
        "print(difference)\n",
        "print(\"the difference of x and y is\", difference)\n",
        "print(type(difference))"
      ],
      "metadata": {
        "colab": {
          "base_uri": "https://localhost:8080/"
        },
        "id": "GTcUqPPo6caa",
        "outputId": "06af66ad-203c-4eb7-8dd5-55cc2c1589c2"
      },
      "execution_count": null,
      "outputs": [
        {
          "output_type": "stream",
          "name": "stdout",
          "text": [
            "30\n",
            "the difference of x and y is 30\n",
            "<class 'int'>\n"
          ]
        }
      ]
    },
    {
      "cell_type": "code",
      "source": [
        "x=33\n",
        "y=3\n",
        "multiply=x*y\n",
        "print(multiply)\n",
        "print(\"the product of x and y is\", multiply)"
      ],
      "metadata": {
        "colab": {
          "base_uri": "https://localhost:8080/"
        },
        "id": "uDHYVyzM7WUE",
        "outputId": "1e33e537-c726-4cb4-9cfc-95315f49d409"
      },
      "execution_count": null,
      "outputs": [
        {
          "output_type": "stream",
          "name": "stdout",
          "text": [
            "99\n",
            "the product of x and y is 99\n"
          ]
        }
      ]
    },
    {
      "cell_type": "code",
      "source": [
        "#booleans -> gives whether condition is true or false\n",
        "#(==) is equal to\n",
        "#(!=) not equal to\n",
        "print(num3>num4)\n",
        "print(num3!=num4)"
      ],
      "metadata": {
        "colab": {
          "base_uri": "https://localhost:8080/"
        },
        "id": "ysSLbm2V7tWb",
        "outputId": "1b754ad9-512c-4f53-a29b-8d6e08ff6cfd"
      },
      "execution_count": null,
      "outputs": [
        {
          "output_type": "stream",
          "name": "stdout",
          "text": [
            "True\n",
            "True\n"
          ]
        }
      ]
    },
    {
      "cell_type": "code",
      "source": [],
      "metadata": {
        "id": "xaMTy_n78jrp"
      },
      "execution_count": null,
      "outputs": []
    }
  ]
}
