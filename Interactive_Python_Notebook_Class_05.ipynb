{
  "nbformat": 4,
  "nbformat_minor": 0,
  "metadata": {
    "colab": {
      "provenance": [],
      "authorship_tag": "ABX9TyPnb1FRUJsDINYjgVxIGjR6",
      "include_colab_link": true
    },
    "kernelspec": {
      "name": "python3",
      "display_name": "Python 3"
    },
    "language_info": {
      "name": "python"
    }
  },
  "cells": [
    {
      "cell_type": "markdown",
      "metadata": {
        "id": "view-in-github",
        "colab_type": "text"
      },
      "source": [
        "<a href=\"https://colab.research.google.com/github/rebeccalizaverghese/Python-with-Machine-Learning/blob/main/Interactive_Python_Notebook_Class_5.ipynb\" target=\"_parent\"><img src=\"https://colab.research.google.com/assets/colab-badge.svg\" alt=\"Open In Colab\"/></a>"
      ]
    },
    {
      "cell_type": "markdown",
      "source": [
        "**Class 5**"
      ],
      "metadata": {
        "id": "ItKlNVInZ79z"
      }
    },
    {
      "cell_type": "code",
      "source": [
        "#Index Number - print individual data -- Positive Index [0-1] | Negative Index [-1 onwards]\n",
        "s=\"Welcome all\"\n",
        "print(s[6]) # positive \n",
        "print(s[-3]) #Negative\n",
        "#Slicing -  printing a range/ sequence of elements. - [start:end]\n",
        "print(s[0:7])\n",
        "print(s[:3]) #prints from start upto 3rd index no.\n",
        "print(s[-3:]) #prints from (-3) till end\n",
        "print(s[:-3])\n",
        "print(s[-2:-9]) #no value b/w -2 and -9\n",
        "print(s[-8:-4])\n",
        "print(s[3:7])"
      ],
      "metadata": {
        "colab": {
          "base_uri": "https://localhost:8080/"
        },
        "id": "ZMtoQ8o7Z59A",
        "outputId": "84140572-72c7-4be8-8a44-0902b2e4ed79"
      },
      "execution_count": 26,
      "outputs": [
        {
          "output_type": "stream",
          "name": "stdout",
          "text": [
            "e\n",
            "a\n",
            "Welcome\n",
            "Wel\n",
            "all\n",
            "Welcome \n",
            "\n",
            "come\n",
            "come\n"
          ]
        }
      ]
    },
    {
      "cell_type": "code",
      "source": [
        "#stride/ step slicing - help to extract an element using start and end index number and based on step (to be skipped) value\n",
        "#to print alternative indexs [start:end:step]\n",
        "s=\"Welcome All\"\n",
        "print(s[0::2]) #s[start (0):end():step(2)]\n",
        "print(s[0::3]) #s[start (0):end():step(3)]\n",
        "print(s[0:7:4]) #s[start (0):end(7):step(4)]\n"
      ],
      "metadata": {
        "colab": {
          "base_uri": "https://localhost:8080/"
        },
        "id": "3H3iphZRaqhe",
        "outputId": "bbc38571-361c-46d7-fc98-cb082e56bfb1"
      },
      "execution_count": 31,
      "outputs": [
        {
          "output_type": "stream",
          "name": "stdout",
          "text": [
            "WloeAl\n",
            "Wcel\n",
            "Wo\n"
          ]
        }
      ]
    },
    {
      "cell_type": "code",
      "source": [
        "a=\"Data is Important\"\n",
        "print(a[0:5]+a[8:17])\n",
        "print(a[0::4])"
      ],
      "metadata": {
        "colab": {
          "base_uri": "https://localhost:8080/"
        },
        "id": "-TA2EO3Neas4",
        "outputId": "7f23b1d7-29f5-4f52-91cf-1d51b4d71613"
      },
      "execution_count": 41,
      "outputs": [
        {
          "output_type": "stream",
          "name": "stdout",
          "text": [
            "Data Important\n",
            "D Irt\n"
          ]
        }
      ]
    },
    {
      "cell_type": "code",
      "source": [
        "#Split function\n",
        "a=\"data is important\"\n",
        "b= a.split()\n",
        "result= b[0]+\" \"+b[2]\n",
        "print(result)"
      ],
      "metadata": {
        "colab": {
          "base_uri": "https://localhost:8080/"
        },
        "id": "HEaOHDRbh-Py",
        "outputId": "a81e1f56-fa04-43a2-8b53-6dca33c154c5"
      },
      "execution_count": 45,
      "outputs": [
        {
          "output_type": "stream",
          "name": "stdout",
          "text": [
            "data important\n"
          ]
        }
      ]
    },
    {
      "cell_type": "code",
      "source": [],
      "metadata": {
        "id": "_20OpZcLlexH"
      },
      "execution_count": null,
      "outputs": []
    }
  ]
}
