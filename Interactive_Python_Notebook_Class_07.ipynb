{
  "nbformat": 4,
  "nbformat_minor": 0,
  "metadata": {
    "colab": {
      "provenance": [],
      "authorship_tag": "ABX9TyNsN3dvAXvVHWfCxiG8uxHl",
      "include_colab_link": true
    },
    "kernelspec": {
      "name": "python3",
      "display_name": "Python 3"
    },
    "language_info": {
      "name": "python"
    }
  },
  "cells": [
    {
      "cell_type": "markdown",
      "metadata": {
        "id": "view-in-github",
        "colab_type": "text"
      },
      "source": [
        "<a href=\"https://colab.research.google.com/github/rebeccalizaverghese/Python-with-Machine-Learning/blob/main/Interactive_Python_Notebook_Class_07.ipynb\" target=\"_parent\"><img src=\"https://colab.research.google.com/assets/colab-badge.svg\" alt=\"Open In Colab\"/></a>"
      ]
    },
    {
      "cell_type": "markdown",
      "source": [
        "**CLASS 7**"
      ],
      "metadata": {
        "id": "5bumMQR4fyqN"
      }
    },
    {
      "cell_type": "code",
      "source": [
        "# (*args) - used to pass a variable number of non-keyword arguements to a function - it allows any number of arguements\n",
        "# *args - positional arguments\n",
        "def collage(Teacher,*args):\n",
        "  print(Teacher,\"is my Teacher\")\n",
        "  for roll_no in args:\n",
        "    print(\"The student's roll_no are\", roll_no)\n",
        "\n",
        "collage(\"Lucy\",23,4,5,6,10,12,8,89,1)"
      ],
      "metadata": {
        "colab": {
          "base_uri": "https://localhost:8080/"
        },
        "id": "AynR9dY-f1No",
        "outputId": "355dd05d-cba5-40ab-d875-fdb51bd548d7"
      },
      "execution_count": 4,
      "outputs": [
        {
          "output_type": "stream",
          "name": "stdout",
          "text": [
            "Lucy is my Teacher\n",
            "The student's roll_no are 23\n",
            "The student's roll_no are 4\n",
            "The student's roll_no are 5\n",
            "The student's roll_no are 6\n",
            "The student's roll_no are 10\n",
            "The student's roll_no are 12\n",
            "The student's roll_no are 8\n",
            "The student's roll_no are 89\n",
            "The student's roll_no are 1\n"
          ]
        }
      ]
    },
    {
      "cell_type": "code",
      "source": [
        "collage(\"Lizzie Ma'am\",1,2,3,4,5,6,7,8,9)"
      ],
      "metadata": {
        "colab": {
          "base_uri": "https://localhost:8080/"
        },
        "id": "GzCqmih4iky7",
        "outputId": "d91abad4-7f22-41af-fcf8-d1457b070817"
      },
      "execution_count": 5,
      "outputs": [
        {
          "output_type": "stream",
          "name": "stdout",
          "text": [
            "Lizzie Ma'am is my Teacher\n",
            "The student's roll_no are 1\n",
            "The student's roll_no are 2\n",
            "The student's roll_no are 3\n",
            "The student's roll_no are 4\n",
            "The student's roll_no are 5\n",
            "The student's roll_no are 6\n",
            "The student's roll_no are 7\n",
            "The student's roll_no are 8\n",
            "The student's roll_no are 9\n"
          ]
        }
      ]
    },
    {
      "cell_type": "code",
      "source": [
        "def add(*numbers):\n",
        "  sum= 0\n",
        "  for i in numbers:\n",
        "    add=sum+i\n",
        "    print(\"The sum of two values are\",add)\n",
        "\n",
        "add(1,3,4,5,6,77,8,99,89)"
      ],
      "metadata": {
        "colab": {
          "base_uri": "https://localhost:8080/"
        },
        "id": "uQRbMiqPjAZI",
        "outputId": "84468182-dd16-4e2b-8172-8089a905b6df"
      },
      "execution_count": 10,
      "outputs": [
        {
          "output_type": "stream",
          "name": "stdout",
          "text": [
            "The sum of two values are 1\n",
            "The sum of two values are 3\n",
            "The sum of two values are 4\n",
            "The sum of two values are 5\n",
            "The sum of two values are 6\n",
            "The sum of two values are 77\n",
            "The sum of two values are 8\n",
            "The sum of two values are 99\n",
            "The sum of two values are 89\n"
          ]
        }
      ]
    },
    {
      "cell_type": "code",
      "source": [
        "# **kwargs - keyword arguements - includes key and values\n",
        "def collage(Teacher,*args, **kwargs):\n",
        "  print(Teacher,\"is my Teacher\")\n",
        "  for roll_no in args:\n",
        "    print(\"The student's roll_no are\", roll_no)\n",
        "  for subject in kwargs:\n",
        "    print(subject,kwargs[subject])\n",
        "\n",
        "collage(\"Mary\",1,2,3,English=73,Science=88,Maths=93)"
      ],
      "metadata": {
        "colab": {
          "base_uri": "https://localhost:8080/"
        },
        "id": "0D54Tc4LkDgz",
        "outputId": "4f69b533-ce76-4310-dff3-21bcbdd9a24f"
      },
      "execution_count": 11,
      "outputs": [
        {
          "output_type": "stream",
          "name": "stdout",
          "text": [
            "Mary is my Teacher\n",
            "The student's roll_no are 1\n",
            "The student's roll_no are 2\n",
            "The student's roll_no are 3\n",
            "English 73\n",
            "Science 88\n",
            "Maths 93\n"
          ]
        }
      ]
    },
    {
      "cell_type": "code",
      "source": [
        "def marks(Name,**kwargs):\n",
        "  print(\"My name is\", Name)\n",
        "  for subject in kwargs:\n",
        "    print(\"The marks for\",subject,\"are\",kwargs[subject])\n",
        "\n",
        "marks(\"Rebecca\", Accounts=93, Statistics=96, IT=93)"
      ],
      "metadata": {
        "colab": {
          "base_uri": "https://localhost:8080/"
        },
        "id": "EUkyL8dtmTLF",
        "outputId": "5e09732f-4157-4c6e-f4a5-72f2b0416fa2"
      },
      "execution_count": 12,
      "outputs": [
        {
          "output_type": "stream",
          "name": "stdout",
          "text": [
            "My name is Rebecca\n",
            "The marks for Accounts are 93\n",
            "The marks for Statistics are 96\n",
            "The marks for IT are 93\n"
          ]
        }
      ]
    },
    {
      "cell_type": "code",
      "source": [
        "a=[23,4,56,7,8,9]\n",
        "a.sort()\n",
        "print(a)\n"
      ],
      "metadata": {
        "colab": {
          "base_uri": "https://localhost:8080/"
        },
        "id": "1Q3WW-weol7m",
        "outputId": "f47da663-80f8-422c-888f-58e7fb0a3d3d"
      },
      "execution_count": 27,
      "outputs": [
        {
          "output_type": "stream",
          "name": "stdout",
          "text": [
            "[4, 7, 8, 9, 23, 56]\n"
          ]
        }
      ]
    },
    {
      "cell_type": "code",
      "source": [
        "def rn(*num):\n",
        "  mylist=[i for i in num]\n",
        "  mylist.sort()\n",
        "  for i in mylist:\n",
        "    print(i)\n",
        "\n",
        "rn(12,34,5,6,4,67,8,9)"
      ],
      "metadata": {
        "colab": {
          "base_uri": "https://localhost:8080/"
        },
        "id": "bSgk4lOzokyo",
        "outputId": "c16b4691-9eb0-429e-aa62-8e7b0828a513"
      },
      "execution_count": 28,
      "outputs": [
        {
          "output_type": "stream",
          "name": "stdout",
          "text": [
            "4\n",
            "5\n",
            "6\n",
            "8\n",
            "9\n",
            "12\n",
            "34\n",
            "67\n"
          ]
        }
      ]
    },
    {
      "cell_type": "code",
      "source": [
        "def details(Teacher,*args):\n",
        "  print(Teacher,\"is my teacher\")\n",
        "  for roll_no in sorted(args):\n",
        "    print(\"The student roll_no are\", roll_no)\n",
        "\n",
        "details(\"Lucy\",23,4,5,6,10,16,18,89,1)"
      ],
      "metadata": {
        "colab": {
          "base_uri": "https://localhost:8080/"
        },
        "id": "YJBa_kA-rRI_",
        "outputId": "2e7d248c-8eb8-4aa5-da79-5bddbf6207d8"
      },
      "execution_count": 41,
      "outputs": [
        {
          "output_type": "stream",
          "name": "stdout",
          "text": [
            "Lucy is my teacher\n",
            "The student roll_no are 1\n",
            "The student roll_no are 4\n",
            "The student roll_no are 5\n",
            "The student roll_no are 6\n",
            "The student roll_no are 10\n",
            "The student roll_no are 16\n",
            "The student roll_no are 18\n",
            "The student roll_no are 23\n",
            "The student roll_no are 89\n"
          ]
        }
      ]
    },
    {
      "cell_type": "code",
      "source": [
        "#Files - where data/ information can be stored, written, read etc.\n",
        "# 3 modes --> read/write/append(modify datas)\n",
        "#to create file -  click files icon, right click and select new file"
      ],
      "metadata": {
        "id": "kiNt1DnbsmLg"
      },
      "execution_count": 43,
      "outputs": []
    },
    {
      "cell_type": "code",
      "source": [
        "#Read mode -built in method for reading file(.read)\n",
        "file1= open(\"a.txt\",\"r\")\n",
        "print(file1.read()) "
      ],
      "metadata": {
        "colab": {
          "base_uri": "https://localhost:8080/"
        },
        "id": "asMfVhyLt-mH",
        "outputId": "4f313f8e-7773-4d0f-fb7c-c88fa002a772"
      },
      "execution_count": 44,
      "outputs": [
        {
          "output_type": "stream",
          "name": "stdout",
          "text": [
            "Hello all\n"
          ]
        }
      ]
    },
    {
      "cell_type": "code",
      "source": [
        "file1.close()"
      ],
      "metadata": {
        "id": "qdNtZ-qgv0gb"
      },
      "execution_count": 45,
      "outputs": []
    },
    {
      "cell_type": "code",
      "source": [
        "#Write mode - adds new data while excluding existing data\n",
        "file1=open(\"a.txt\",\"w\")\n",
        "file1.write(\"This is written by the user \\nThis is written by the programmer\") # 62 - lenght of character"
      ],
      "metadata": {
        "colab": {
          "base_uri": "https://localhost:8080/"
        },
        "id": "e3uHF6ylv6n8",
        "outputId": "0896e025-990e-4dbc-9b27-b9c9bbb885e9"
      },
      "execution_count": 52,
      "outputs": [
        {
          "output_type": "execute_result",
          "data": {
            "text/plain": [
              "62"
            ]
          },
          "metadata": {},
          "execution_count": 52
        }
      ]
    },
    {
      "cell_type": "code",
      "source": [
        "file1= open(\"a.txt\",\"r\")\n",
        "print(file1.read()) "
      ],
      "metadata": {
        "colab": {
          "base_uri": "https://localhost:8080/"
        },
        "id": "eVmvpQ7vwTrq",
        "outputId": "1690b643-a9c6-45d5-f1c5-b2176c9d7507"
      },
      "execution_count": 54,
      "outputs": [
        {
          "output_type": "stream",
          "name": "stdout",
          "text": [
            "This is written by the user \n",
            "This is written by the programmer\n"
          ]
        }
      ]
    },
    {
      "cell_type": "code",
      "source": [
        "a=open(\"Info\",\"r\")\n",
        "print(a.read())"
      ],
      "metadata": {
        "colab": {
          "base_uri": "https://localhost:8080/"
        },
        "id": "omGpwyJ4w5Ps",
        "outputId": "7b514e81-fc78-4926-bd57-c8a8790c1348"
      },
      "execution_count": 68,
      "outputs": [
        {
          "output_type": "stream",
          "name": "stdout",
          "text": [
            "Welcome to Python\n"
          ]
        }
      ]
    },
    {
      "cell_type": "code",
      "source": [
        "a.close()"
      ],
      "metadata": {
        "id": "-iu82dGZxfP3"
      },
      "execution_count": 69,
      "outputs": []
    },
    {
      "cell_type": "code",
      "source": [
        "b=open(\"Info\",\"w\")\n",
        "b.write(\"Introduction to Python with Machine Learning\")"
      ],
      "metadata": {
        "colab": {
          "base_uri": "https://localhost:8080/"
        },
        "id": "SWca7NwjxotD",
        "outputId": "9d86c8af-d088-4438-da39-ce19de7e47e9"
      },
      "execution_count": 70,
      "outputs": [
        {
          "output_type": "execute_result",
          "data": {
            "text/plain": [
              "44"
            ]
          },
          "metadata": {},
          "execution_count": 70
        }
      ]
    },
    {
      "cell_type": "code",
      "source": [
        "b=open(\"Info\",\"r\")\n",
        "print(b.read())"
      ],
      "metadata": {
        "colab": {
          "base_uri": "https://localhost:8080/"
        },
        "id": "nL4nqETEx0bS",
        "outputId": "3da67697-d2b9-47dc-ab15-918f200a4f8b"
      },
      "execution_count": 72,
      "outputs": [
        {
          "output_type": "stream",
          "name": "stdout",
          "text": [
            "Introduction to Python with Machine Learning\n"
          ]
        }
      ]
    },
    {
      "cell_type": "code",
      "source": [
        "b.close()"
      ],
      "metadata": {
        "id": "e_NBwMRyx_Gd"
      },
      "execution_count": 73,
      "outputs": []
    },
    {
      "cell_type": "code",
      "source": [
        "#Append Mode - allows you to write data without excluding existing data\n"
      ],
      "metadata": {
        "id": "JGSsQvN5yC6a"
      },
      "execution_count": 85,
      "outputs": []
    },
    {
      "cell_type": "code",
      "source": [
        "file1=open(\"a.txt\",\"a\")\n",
        "file1.write(\"\\nThis is written by the developer\")"
      ],
      "metadata": {
        "colab": {
          "base_uri": "https://localhost:8080/"
        },
        "id": "ZrGha39pydHR",
        "outputId": "ef8b706d-63dc-43fd-98d1-8ef5df22ccb7"
      },
      "execution_count": 84,
      "outputs": [
        {
          "output_type": "execute_result",
          "data": {
            "text/plain": [
              "33"
            ]
          },
          "metadata": {},
          "execution_count": 84
        }
      ]
    },
    {
      "cell_type": "code",
      "source": [
        "file1=open(\"a.txt\",\"r\")\n",
        "print(file1.read())"
      ],
      "metadata": {
        "colab": {
          "base_uri": "https://localhost:8080/"
        },
        "id": "e2R_PE2czH--",
        "outputId": "e2340e7d-e584-4d81-b626-290366c4c2e4"
      },
      "execution_count": 81,
      "outputs": [
        {
          "output_type": "stream",
          "name": "stdout",
          "text": [
            "This is written by the user \n",
            "This is written by the programmer\n",
            "This is written by the developer\n"
          ]
        }
      ]
    },
    {
      "cell_type": "code",
      "source": [],
      "metadata": {
        "id": "RM4nTr76zO0X"
      },
      "execution_count": null,
      "outputs": []
    }
  ]
}