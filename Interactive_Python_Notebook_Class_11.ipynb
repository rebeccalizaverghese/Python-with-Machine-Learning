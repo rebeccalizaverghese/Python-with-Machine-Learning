{
  "nbformat": 4,
  "nbformat_minor": 0,
  "metadata": {
    "colab": {
      "provenance": [],
      "authorship_tag": "ABX9TyP0BVcj/Zl8SC6Glms9ZURY",
      "include_colab_link": true
    },
    "kernelspec": {
      "name": "python3",
      "display_name": "Python 3"
    },
    "language_info": {
      "name": "python"
    }
  },
  "cells": [
    {
      "cell_type": "markdown",
      "metadata": {
        "id": "view-in-github",
        "colab_type": "text"
      },
      "source": [
        "<a href=\"https://colab.research.google.com/github/rebeccalizaverghese/Python-with-Machine-Learning/blob/main/Interactive_Python_Notebook_Class_11.ipynb\" target=\"_parent\"><img src=\"https://colab.research.google.com/assets/colab-badge.svg\" alt=\"Open In Colab\"/></a>"
      ]
    },
    {
      "cell_type": "markdown",
      "source": [
        "Class 11"
      ],
      "metadata": {
        "id": "aVFky0wYWndL"
      }
    },
    {
      "cell_type": "code",
      "source": [
        "# Modules - library containing set of functions performing specific commands\n",
        "  #used to organize code into reusable blocks and manage, maintain larger programs\n",
        "  #keyword -> (import)\n",
        "\n",
        "import math #math - provides mathimatical operations\n",
        "print(math.sin(3))\n",
        "print(math.pi)\n",
        "print(math.sqrt(64))"
      ],
      "metadata": {
        "colab": {
          "base_uri": "https://localhost:8080/"
        },
        "id": "fzuIA5qtWp2e",
        "outputId": "aa24632d-4303-4361-9724-fd332ff4d098"
      },
      "execution_count": 7,
      "outputs": [
        {
          "output_type": "stream",
          "name": "stdout",
          "text": [
            "0.1411200080598672\n",
            "3.141592653589793\n",
            "8.0\n"
          ]
        }
      ]
    },
    {
      "cell_type": "code",
      "source": [
        "import random #Random - imports random values\n",
        "print(random.randint(1,9))"
      ],
      "metadata": {
        "colab": {
          "base_uri": "https://localhost:8080/"
        },
        "id": "EdcCeuIpY0_Z",
        "outputId": "537ebf21-a979-41c2-96d0-361acd268456"
      },
      "execution_count": 9,
      "outputs": [
        {
          "output_type": "stream",
          "name": "stdout",
          "text": [
            "6\n"
          ]
        }
      ]
    },
    {
      "cell_type": "code",
      "source": [
        "import datetime #Datetime - imports date and time\n",
        "print(datetime.datetime.now())"
      ],
      "metadata": {
        "colab": {
          "base_uri": "https://localhost:8080/"
        },
        "id": "0UnAt057ZYpu",
        "outputId": "55e42c93-51b8-4100-bb73-bbe21abf2c1c"
      },
      "execution_count": 83,
      "outputs": [
        {
          "output_type": "stream",
          "name": "stdout",
          "text": [
            "2023-05-01 13:47:30.188473\n"
          ]
        }
      ]
    },
    {
      "cell_type": "code",
      "source": [
        "#custom function\n",
        "import module\n",
        "module.a(\"Tom\", \"Good evening\")\n",
        "module.a(\"Katherine\", \"Welcome\")"
      ],
      "metadata": {
        "colab": {
          "base_uri": "https://localhost:8080/"
        },
        "id": "FpZ7l9ENZpnJ",
        "outputId": "350f0728-9fca-4743-f77f-d4088a2a4990"
      },
      "execution_count": 84,
      "outputs": [
        {
          "output_type": "stream",
          "name": "stdout",
          "text": [
            "Good evening Tom\n",
            "Welcome Katherine\n"
          ]
        }
      ]
    },
    {
      "cell_type": "code",
      "source": [
        "import data\n",
        "data.x(33, \"married\")"
      ],
      "metadata": {
        "colab": {
          "base_uri": "https://localhost:8080/"
        },
        "id": "Ke-RLQNSat48",
        "outputId": "0104ed17-e703-4dbc-9c8e-08d9fa02d8c1"
      },
      "execution_count": 85,
      "outputs": [
        {
          "output_type": "stream",
          "name": "stdout",
          "text": [
            "She is 33 years old and is married\n"
          ]
        }
      ]
    },
    {
      "cell_type": "code",
      "source": [
        "import calc\n",
        "calc.count(3)"
      ],
      "metadata": {
        "colab": {
          "base_uri": "https://localhost:8080/"
        },
        "id": "EF4dqtLQbtMM",
        "outputId": "01c34a47-eda9-4e67-89b4-17a65e0c375c"
      },
      "execution_count": 88,
      "outputs": [
        {
          "output_type": "stream",
          "name": "stdout",
          "text": [
            "1\n",
            "2\n",
            "3\n"
          ]
        }
      ]
    },
    {
      "cell_type": "code",
      "source": [
        "#Regular Expression - provides a concise and flexible means for matching strings of texts, words, digits\n",
        "#Search - to search a set of strings\n",
        "from re import search #(re -> regular)\n",
        "a=\"Welcome to python world\"\n",
        "b=re.search(\"to\",a) #to find string (\"to\") in/inside (variable a)\n",
        "print(b)\n",
        "print(\"The start index number is\", b.start()) \n",
        "print(\"The ending index number is\", b.end()) \n",
        "print(b.span()) # gives starting and ending index no. of searched value\n",
        "print(b.group()) # gives word/ group of elements you are trying to search\n",
        "\n",
        "c= re.search(\"too\",a)\n",
        "print(c)"
      ],
      "metadata": {
        "colab": {
          "base_uri": "https://localhost:8080/"
        },
        "id": "neD8NzFsdo6H",
        "outputId": "ccc93725-3437-4aad-e668-a88916c662c2"
      },
      "execution_count": 89,
      "outputs": [
        {
          "output_type": "stream",
          "name": "stdout",
          "text": [
            "<re.Match object; span=(8, 10), match='to'>\n",
            "The start index number is 8\n",
            "The ending index number is 10\n",
            "(8, 10)\n",
            "to\n",
            "None\n"
          ]
        }
      ]
    },
    {
      "cell_type": "code",
      "source": [
        "from re import search\n",
        "x=\"Hello All to Python with Machine Learning\"\n",
        "y=re.search(\"Python\",x)\n",
        "print(y)\n",
        "print(y.span())\n",
        "print(y.group())"
      ],
      "metadata": {
        "colab": {
          "base_uri": "https://localhost:8080/"
        },
        "id": "IxrXs5n_eOKK",
        "outputId": "accfdd80-d2c1-4238-f183-56b3ba7bfd5d"
      },
      "execution_count": 90,
      "outputs": [
        {
          "output_type": "stream",
          "name": "stdout",
          "text": [
            "<re.Match object; span=(13, 19), match='Python'>\n",
            "(13, 19)\n",
            "Python\n"
          ]
        }
      ]
    },
    {
      "cell_type": "code",
      "source": [
        "import re\n",
        "a=open(\"a.txt\",\"r\")\n",
        "for x in a:\n",
        "  if re.search(\"and\",x):\n",
        "    print(x)\n",
        "  else:\n",
        "    print(\"Invalid\")"
      ],
      "metadata": {
        "colab": {
          "base_uri": "https://localhost:8080/"
        },
        "id": "R2bPkgNygnbj",
        "outputId": "a7416dcb-d338-4d5b-a26f-ae15cb9b39c2"
      },
      "execution_count": 91,
      "outputs": [
        {
          "output_type": "stream",
          "name": "stdout",
          "text": [
            "Hello and Welcome all!!\n"
          ]
        }
      ]
    },
    {
      "cell_type": "code",
      "source": [
        "import re\n",
        "x=\"3 and 40 are my favourite numbers\"\n",
        "y=re.findall(\"[0-9]+\",x)\n",
        "print(y)"
      ],
      "metadata": {
        "colab": {
          "base_uri": "https://localhost:8080/"
        },
        "id": "ZmsCk3OphNh4",
        "outputId": "61b9b8a7-31e2-4784-8627-18321a5f07c6"
      },
      "execution_count": 92,
      "outputs": [
        {
          "output_type": "stream",
          "name": "stdout",
          "text": [
            "['3', '40']\n"
          ]
        }
      ]
    },
    {
      "cell_type": "code",
      "source": [
        "#sub\n",
        "z=re.sub(\"\\s\", \"#\",x) #all blank spaces r replaced with(#)\n",
        "print(x)\n",
        "print(z)"
      ],
      "metadata": {
        "colab": {
          "base_uri": "https://localhost:8080/"
        },
        "id": "Tc28I_12iklv",
        "outputId": "ffc2caa7-82f6-4ad1-fccd-8061151d8fe7"
      },
      "execution_count": 93,
      "outputs": [
        {
          "output_type": "stream",
          "name": "stdout",
          "text": [
            "3 and 40 are my favourite numbers\n",
            "3#and#40#are#my#favourite#numbers\n"
          ]
        }
      ]
    },
    {
      "cell_type": "code",
      "source": [
        "#split\n",
        "z1=re.split(\"\\s\",x)\n",
        "print(z1) #replaces the blank spaces with (,)"
      ],
      "metadata": {
        "colab": {
          "base_uri": "https://localhost:8080/"
        },
        "id": "llI0q-pgjKiX",
        "outputId": "9322a713-0d7b-4ba3-d856-ce75150b0ec8"
      },
      "execution_count": 94,
      "outputs": [
        {
          "output_type": "stream",
          "name": "stdout",
          "text": [
            "['3', 'and', '40', 'are', 'my', 'favourite', 'numbers']\n"
          ]
        }
      ]
    },
    {
      "cell_type": "code",
      "source": [
        "a=\"Tom and Jerry\"\n",
        "b=a.split()\n",
        "print(b)\n",
        "print(a[0:3]+\" \"+a[8:])"
      ],
      "metadata": {
        "colab": {
          "base_uri": "https://localhost:8080/"
        },
        "id": "P-jZFOiHjdYJ",
        "outputId": "2ba8d377-cc30-4430-837a-1ff716285b21"
      },
      "execution_count": 95,
      "outputs": [
        {
          "output_type": "stream",
          "name": "stdout",
          "text": [
            "['Tom', 'and', 'Jerry']\n",
            "Tom Jerry\n"
          ]
        }
      ]
    },
    {
      "cell_type": "code",
      "source": [],
      "metadata": {
        "id": "rgamjPhSjwum"
      },
      "execution_count": null,
      "outputs": []
    }
  ]
}