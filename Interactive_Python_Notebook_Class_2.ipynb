{
  "nbformat": 4,
  "nbformat_minor": 0,
  "metadata": {
    "colab": {
      "provenance": [],
      "authorship_tag": "ABX9TyN+lI1SW+dPti4LXcihOGU5",
      "include_colab_link": true
    },
    "kernelspec": {
      "name": "python3",
      "display_name": "Python 3"
    },
    "language_info": {
      "name": "python"
    }
  },
  "cells": [
    {
      "cell_type": "markdown",
      "metadata": {
        "id": "view-in-github",
        "colab_type": "text"
      },
      "source": [
        "<a href=\"https://colab.research.google.com/github/rebeccalizaverghese/Python-with-Machine-Learning/blob/main/Interactive_Python_Notebook_Class_2.ipynb\" target=\"_parent\"><img src=\"https://colab.research.google.com/assets/colab-badge.svg\" alt=\"Open In Colab\"/></a>"
      ]
    },
    {
      "cell_type": "code",
      "execution_count": null,
      "metadata": {
        "id": "iOzbLeGGMoFE"
      },
      "outputs": [],
      "source": [
        "#Index nos. -> helps to print individual datas (W|O|R|D|S)\n",
        "#positive idexs (starts from 0 onwards (first letter being 0 (L-R))) n negative index(starts from -1 ( starts from last letter, going backwards(R-L)))\n",
        "#List ('[]' -> used to create list) -> ordered collection of datatypes, mutual, contains duplicate values"
      ]
    },
    {
      "cell_type": "code",
      "source": [
        "mylist=[1,2,3,4,5,6,7,\"Data\",8]\n",
        "print(mylist)\n",
        "#index nos (positive)\n",
        "print(mylist[0])\n",
        "print(mylist[1])\n",
        "print(mylist[2])\n",
        "print(mylist[3])\n",
        "print(mylist[4])\n",
        "print(mylist[5])\n",
        "print(mylist[6])\n",
        "print(mylist[7])\n",
        "print(mylist[8])"
      ],
      "metadata": {
        "colab": {
          "base_uri": "https://localhost:8080/"
        },
        "id": "BBMMel5fPUQ7",
        "outputId": "8435d94c-bc5b-483a-cc18-d80135bd82ac"
      },
      "execution_count": null,
      "outputs": [
        {
          "output_type": "stream",
          "name": "stdout",
          "text": [
            "[1, 2, 3, 4, 5, 6, 7, 'Data', 8]\n",
            "1\n",
            "2\n",
            "3\n",
            "4\n",
            "5\n",
            "6\n",
            "7\n",
            "Data\n",
            "8\n"
          ]
        }
      ]
    },
    {
      "cell_type": "code",
      "source": [
        "#index nos. (negative)\n",
        "print(mylist[-1])\n",
        "print(mylist[-2])\n",
        "print(mylist[-3])\n",
        "print(mylist[-4])\n",
        "print(mylist[-5])\n",
        "print(mylist[-6])\n",
        "print(mylist[-7])\n",
        "print(mylist[-8])\n",
        "print(mylist[-9])"
      ],
      "metadata": {
        "colab": {
          "base_uri": "https://localhost:8080/"
        },
        "id": "dePCbnMMP4Jc",
        "outputId": "6cbdbb3f-3f68-40dc-d2c5-a3299c7abef9"
      },
      "execution_count": null,
      "outputs": [
        {
          "output_type": "stream",
          "name": "stdout",
          "text": [
            "8\n",
            "Data\n",
            "7\n",
            "6\n",
            "5\n",
            "4\n",
            "3\n",
            "2\n",
            "1\n"
          ]
        }
      ]
    },
    {
      "cell_type": "code",
      "source": [
        "s=\"Assignment\"\n",
        "print(s[0])\n",
        "print(s[1])\n",
        "print(s[2])\n",
        "print(s[3])\n",
        "print(s[4])\n",
        "print(s[5])\n",
        "print(s[6])\n",
        "print(s[7])\n",
        "print(s[8])\n",
        "print(s[9])\n",
        "print(s[-1])\n",
        "print(s[-2])\n",
        "print(s[-3])\n",
        "print(s[-4])\n",
        "print(s[-5])\n",
        "print(s[-6])\n",
        "print(s[-7])\n",
        "print(s[-8])\n",
        "print(s[-9])\n",
        "print(s[-10])"
      ],
      "metadata": {
        "colab": {
          "base_uri": "https://localhost:8080/"
        },
        "id": "MyujDZANQRVb",
        "outputId": "ce6fa9ae-d694-4463-ec23-8fd9ec9fb4b8"
      },
      "execution_count": null,
      "outputs": [
        {
          "output_type": "stream",
          "name": "stdout",
          "text": [
            "A\n",
            "s\n",
            "s\n",
            "i\n",
            "g\n",
            "n\n",
            "m\n",
            "e\n",
            "n\n",
            "t\n",
            "t\n",
            "n\n",
            "e\n",
            "m\n",
            "n\n",
            "g\n",
            "i\n",
            "s\n",
            "s\n",
            "A\n"
          ]
        }
      ]
    },
    {
      "cell_type": "code",
      "source": [
        "#update (change values)\n",
        "mylist=[1,2,34,56,7,3.04,\"Data\",1]\n",
        "mylist[-3]=3.05\n",
        "print(\"The values are\", mylist)"
      ],
      "metadata": {
        "colab": {
          "base_uri": "https://localhost:8080/"
        },
        "id": "cSD7V-s5Qyxu",
        "outputId": "89234881-17ab-4a75-85c5-e5e3d78b0fe7"
      },
      "execution_count": null,
      "outputs": [
        {
          "output_type": "stream",
          "name": "stdout",
          "text": [
            "The values are [1, 2, 34, 56, 7, 3.05, 'Data', 1]\n"
          ]
        }
      ]
    },
    {
      "cell_type": "code",
      "source": [
        "a=[1,2,34,56,7,3.04,\"Data\",1]\n",
        "a[-3]=mylist\n",
        "print(\"The values are\", mylist)"
      ],
      "metadata": {
        "colab": {
          "base_uri": "https://localhost:8080/"
        },
        "id": "PwcCsaTdR5EM",
        "outputId": "94c519c9-9e60-4bc0-8d63-292d958abbf3"
      },
      "execution_count": null,
      "outputs": [
        {
          "output_type": "stream",
          "name": "stdout",
          "text": [
            "The values are [1, 2, 34, 56, 7, [...], 'Data', 1]\n"
          ]
        }
      ]
    },
    {
      "cell_type": "code",
      "source": [
        "#Append (add values to the end of the list)\n",
        "mylist=[1,2,34,56,7,3.04,\"Data\",1]\n",
        "mylist.append(8)\n",
        "print(\"The values are\", mylist)"
      ],
      "metadata": {
        "colab": {
          "base_uri": "https://localhost:8080/"
        },
        "id": "Uwgcv4ILSDo6",
        "outputId": "df79bb5e-7b23-46a9-f88d-849015db85e6"
      },
      "execution_count": null,
      "outputs": [
        {
          "output_type": "stream",
          "name": "stdout",
          "text": [
            "The values are [1, 2, 34, 56, 7, 3.04, 'Data', 1, 8]\n"
          ]
        }
      ]
    },
    {
      "cell_type": "code",
      "source": [
        "#insert (adds value to a specific index => (indexnumber, value trying to add))\n",
        "mylist=[1,2,34,56,7,3.04,\"Data\",1]\n",
        "mylist.insert(7,8)\n",
        "print(\"The values are\", mylist)"
      ],
      "metadata": {
        "colab": {
          "base_uri": "https://localhost:8080/"
        },
        "id": "As-bPl1sSZQX",
        "outputId": "ceafb814-bee5-4736-8e72-20493f069788"
      },
      "execution_count": null,
      "outputs": [
        {
          "output_type": "stream",
          "name": "stdout",
          "text": [
            "The values are [1, 2, 34, 56, 7, 3.04, 'Data', 8, 1]\n"
          ]
        }
      ]
    },
    {
      "cell_type": "code",
      "source": [
        "#delete\n",
        "mylist=[1,2,34,56,7,3.04,\"Data\",1]\n",
        "del mylist[-1]\n",
        "print(\"The values are\", mylist)"
      ],
      "metadata": {
        "colab": {
          "base_uri": "https://localhost:8080/"
        },
        "id": "FyNMw-ZnS1ue",
        "outputId": "8f724e26-186e-4911-9118-b833b74a924c"
      },
      "execution_count": null,
      "outputs": [
        {
          "output_type": "stream",
          "name": "stdout",
          "text": [
            "The values are [1, 2, 34, 56, 7, 3.04, 'Data']\n"
          ]
        }
      ]
    },
    {
      "cell_type": "code",
      "source": [
        "list1=[\"a\",\"b\",\"d\",\"e\"]\n",
        "print(list1)\n",
        "#update\n",
        "list1[2]=\"c\"\n",
        "print(list1)\n",
        "#insert\n",
        "list1.insert(3,\"d\")\n",
        "print(list1)\n",
        "list1.insert(-1,\"d\")\n",
        "print(list1)\n",
        "#append \"s\"\n",
        "list1.append(\"s\",)\n",
        "print(list1)\n",
        "#remove\n",
        "list1.remove(\"d\")\n",
        "print(list1)\n",
        "del list1[1]\n",
        "print(list1)\n"
      ],
      "metadata": {
        "colab": {
          "base_uri": "https://localhost:8080/"
        },
        "id": "LNgqsCQiTCi8",
        "outputId": "765a238e-1083-4010-d7d4-a718766987f5"
      },
      "execution_count": null,
      "outputs": [
        {
          "output_type": "stream",
          "name": "stdout",
          "text": [
            "['a', 'b', 'd', 'e']\n",
            "['a', 'b', 'c', 'e']\n",
            "['a', 'b', 'c', 'd', 'e']\n",
            "['a', 'b', 'c', 'd', 'd', 'e']\n",
            "['a', 'b', 'c', 'd', 'd', 'e', 's']\n",
            "['a', 'b', 'c', 'd', 'e', 's']\n",
            "['a', 'c', 'd', 'e', 's']\n"
          ]
        }
      ]
    },
    {
      "cell_type": "code",
      "source": [
        "#tuple -> () ordered collection of datatypes, contains duplicate values, immutable\n",
        "mytuple=(1,2,3,4,5)\n",
        "mytuple.insert(3,8)\n",
        "print(mytuple)\n",
        "# Immutable - cannot be modified or adjusted"
      ],
      "metadata": {
        "colab": {
          "base_uri": "https://localhost:8080/",
          "height": 218
        },
        "id": "Xu5plBpLUzks",
        "outputId": "58d79816-61dc-462e-93eb-6c2dc8038ad8"
      },
      "execution_count": null,
      "outputs": [
        {
          "output_type": "error",
          "ename": "AttributeError",
          "evalue": "ignored",
          "traceback": [
            "\u001b[0;31m---------------------------------------------------------------------------\u001b[0m",
            "\u001b[0;31mAttributeError\u001b[0m                            Traceback (most recent call last)",
            "\u001b[0;32m<ipython-input-53-3b0d28f63673>\u001b[0m in \u001b[0;36m<cell line: 3>\u001b[0;34m()\u001b[0m\n\u001b[1;32m      1\u001b[0m \u001b[0;31m#tuple -> () ordered collection of datatypes, contains duplicate values, immutable\u001b[0m\u001b[0;34m\u001b[0m\u001b[0;34m\u001b[0m\u001b[0m\n\u001b[1;32m      2\u001b[0m \u001b[0mmytuple\u001b[0m\u001b[0;34m=\u001b[0m\u001b[0;34m(\u001b[0m\u001b[0;36m1\u001b[0m\u001b[0;34m,\u001b[0m\u001b[0;36m2\u001b[0m\u001b[0;34m,\u001b[0m\u001b[0;36m3\u001b[0m\u001b[0;34m,\u001b[0m\u001b[0;36m4\u001b[0m\u001b[0;34m,\u001b[0m\u001b[0;36m5\u001b[0m\u001b[0;34m)\u001b[0m\u001b[0;34m\u001b[0m\u001b[0;34m\u001b[0m\u001b[0m\n\u001b[0;32m----> 3\u001b[0;31m \u001b[0mmytuple\u001b[0m\u001b[0;34m.\u001b[0m\u001b[0minsert\u001b[0m\u001b[0;34m(\u001b[0m\u001b[0;36m3\u001b[0m\u001b[0;34m,\u001b[0m\u001b[0;36m8\u001b[0m\u001b[0;34m)\u001b[0m\u001b[0;34m\u001b[0m\u001b[0;34m\u001b[0m\u001b[0m\n\u001b[0m\u001b[1;32m      4\u001b[0m \u001b[0mprint\u001b[0m\u001b[0;34m(\u001b[0m\u001b[0mmytuple\u001b[0m\u001b[0;34m)\u001b[0m\u001b[0;34m\u001b[0m\u001b[0;34m\u001b[0m\u001b[0m\n",
            "\u001b[0;31mAttributeError\u001b[0m: 'tuple' object has no attribute 'insert'"
          ]
        }
      ]
    },
    {
      "cell_type": "code",
      "source": [
        "#convirt tuple to list to adjust values\n",
        "mytupple=[1,2,34,56,7,8]\n",
        "print(mytupple)\n",
        "#update - changing values\n",
        "mytupple[2]=33\n",
        "print(mytupple)\n",
        "#insert - inserting a value at a specific index number\n",
        "mytupple.insert(3,8)\n",
        "print(mytupple)\n",
        "#append - inserting new value at the end of the list\n",
        "mytupple.append(3)\n",
        "print(mytupple)\n",
        "#remove\n",
        "mytupple.remove(56)\n",
        "print(mytupple)\n",
        "#delete\n",
        "del mytupple[-4]\n",
        "print(mytupple)"
      ],
      "metadata": {
        "colab": {
          "base_uri": "https://localhost:8080/"
        },
        "id": "fh_LaF1SWMOY",
        "outputId": "7459b324-aff2-4afe-f93f-a2ada973f83c"
      },
      "execution_count": null,
      "outputs": [
        {
          "output_type": "stream",
          "name": "stdout",
          "text": [
            "[1, 2, 34, 56, 7, 8]\n",
            "[1, 2, 33, 56, 7, 8]\n",
            "[1, 2, 33, 8, 56, 7, 8]\n",
            "[1, 2, 33, 8, 56, 7, 8, 3]\n",
            "[1, 2, 33, 8, 7, 8, 3]\n",
            "[1, 2, 33, 7, 8, 3]\n"
          ]
        }
      ]
    },
    {
      "cell_type": "code",
      "source": [],
      "metadata": {
        "id": "6VQJoZsqafjq"
      },
      "execution_count": null,
      "outputs": []
    }
  ]
}