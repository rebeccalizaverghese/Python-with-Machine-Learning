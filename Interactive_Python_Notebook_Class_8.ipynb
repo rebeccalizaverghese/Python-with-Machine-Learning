{
  "nbformat": 4,
  "nbformat_minor": 0,
  "metadata": {
    "colab": {
      "provenance": [],
      "authorship_tag": "ABX9TyOLyPMGBpEUKCYsGzpMAak3",
      "include_colab_link": true
    },
    "kernelspec": {
      "name": "python3",
      "display_name": "Python 3"
    },
    "language_info": {
      "name": "python"
    }
  },
  "cells": [
    {
      "cell_type": "markdown",
      "metadata": {
        "id": "view-in-github",
        "colab_type": "text"
      },
      "source": [
        "<a href=\"https://colab.research.google.com/github/rebeccalizaverghese/Python-with-Machine-Learning/blob/main/Interactive_Python_Notebook_Class_8.ipynb\" target=\"_parent\"><img src=\"https://colab.research.google.com/assets/colab-badge.svg\" alt=\"Open In Colab\"/></a>"
      ]
    },
    {
      "cell_type": "code",
      "execution_count": null,
      "metadata": {
        "id": "x_lVMzIhQmZ9"
      },
      "outputs": [],
      "source": []
    },
    {
      "cell_type": "markdown",
      "source": [
        "**Class 8**\n"
      ],
      "metadata": {
        "id": "m0yl4_ikRYuH"
      }
    },
    {
      "cell_type": "code",
      "source": [
        "# comprehension - present/ create sequence (list/tuple/dictionary etc.) - concise way to create a list/set/ dictionary\n",
        "#List comprehension\n",
        "list1=[1,42,3,4,56,7,8,234,37,2]\n",
        "print(list1)\n"
      ],
      "metadata": {
        "colab": {
          "base_uri": "https://localhost:8080/"
        },
        "id": "Xd-cmX4HRg3m",
        "outputId": "cf93a81e-8468-49ff-b9a0-23ab2ac34219"
      },
      "execution_count": 10,
      "outputs": [
        {
          "output_type": "stream",
          "name": "stdout",
          "text": [
            "[1, 42, 3, 4, 56, 7, 8, 234, 37, 2]\n"
          ]
        }
      ]
    },
    {
      "cell_type": "code",
      "source": [
        "even_list=[]\n",
        "for x in list1:\n",
        "  if x%2==0:\n",
        "    even_list.append(x)\n",
        "#use append to add values to list\n",
        "\n",
        "print(sorted(even_list))\n",
        "  "
      ],
      "metadata": {
        "colab": {
          "base_uri": "https://localhost:8080/"
        },
        "id": "pNiTq76IS44n",
        "outputId": "716317a7-5ff8-40b5-e97a-a7613664db2c"
      },
      "execution_count": 17,
      "outputs": [
        {
          "output_type": "stream",
          "name": "stdout",
          "text": [
            "[42, 4, 56, 8, 234, 2]\n",
            "[2, 4, 8, 42, 56, 234]\n"
          ]
        }
      ]
    },
    {
      "cell_type": "code",
      "source": [
        "odd_list=[]\n",
        "for x in list1:\n",
        "  if x%2 !=0:\n",
        "    odd_list.append(x)\n",
        "print(odd_list)"
      ],
      "metadata": {
        "colab": {
          "base_uri": "https://localhost:8080/"
        },
        "id": "TJvi801IU6-H",
        "outputId": "13cfb1bb-16d9-4914-a7b0-3a6f3e2441f0"
      },
      "execution_count": 25,
      "outputs": [
        {
          "output_type": "stream",
          "name": "stdout",
          "text": [
            "[1, 3, 7, 37]\n"
          ]
        }
      ]
    },
    {
      "cell_type": "code",
      "source": [
        "#list comprehension\n",
        "even= [x for x in list1 if x%2==0]\n",
        "print(\"The even values are\",even)\n",
        "\n",
        "odd=[x for x in list1 if x%2 !=0]\n",
        "print(\"The odd values are\", odd)"
      ],
      "metadata": {
        "colab": {
          "base_uri": "https://localhost:8080/"
        },
        "id": "VIp8lPzAWK-y",
        "outputId": "6bc07804-e6ef-4c60-810a-76706a1232e2"
      },
      "execution_count": 33,
      "outputs": [
        {
          "output_type": "stream",
          "name": "stdout",
          "text": [
            "The even values are [42, 4, 56, 8, 234, 2]\n",
            "The odd values are [1, 3, 7, 37]\n"
          ]
        }
      ]
    },
    {
      "cell_type": "code",
      "source": [
        "even, odd= [x for x in list1 if x%2==0], [x for x in list1 if x%2!=0]\n",
        "print(sorted(even))\n",
        "print(sorted(odd))"
      ],
      "metadata": {
        "colab": {
          "base_uri": "https://localhost:8080/"
        },
        "id": "kTEWu6NNXaUV",
        "outputId": "d297fa55-43be-491e-b358-a573e2aca6e0"
      },
      "execution_count": 34,
      "outputs": [
        {
          "output_type": "stream",
          "name": "stdout",
          "text": [
            "[2, 4, 8, 42, 56, 234]\n",
            "[1, 3, 7, 37]\n"
          ]
        }
      ]
    },
    {
      "cell_type": "code",
      "source": [
        "dict={}\n",
        "for y in list1:\n",
        "  dict[y]=y**2  #(*)=> multiply (**)=> to the power of\n",
        "print(dict)"
      ],
      "metadata": {
        "colab": {
          "base_uri": "https://localhost:8080/"
        },
        "id": "DRjvduGLbblZ",
        "outputId": "9d51eff5-eec8-4371-d5fd-a5a1ea00ad25"
      },
      "execution_count": 36,
      "outputs": [
        {
          "output_type": "stream",
          "name": "stdout",
          "text": [
            "{1: 1, 42: 1764, 3: 9, 4: 16, 56: 3136, 7: 49, 8: 64, 234: 54756, 37: 1369, 2: 4}\n"
          ]
        }
      ]
    },
    {
      "cell_type": "code",
      "source": [
        "#dictionary comprehension\n",
        "dict ={y:y+2 for y in list1}\n",
        "print(dict)\n",
        "dict_odd={y:y**2 for y in list1 if y%2!=0}\n",
        "dict_even={y:y**2 for y in list1 if y%2==0}\n",
        "print(dict_odd)\n",
        "print(dict_even)"
      ],
      "metadata": {
        "colab": {
          "base_uri": "https://localhost:8080/"
        },
        "id": "7Ivihtb2b0ch",
        "outputId": "b936bd89-4867-41f5-820e-4252675a097c"
      },
      "execution_count": 42,
      "outputs": [
        {
          "output_type": "stream",
          "name": "stdout",
          "text": [
            "{1: 3, 42: 44, 3: 5, 4: 6, 56: 58, 7: 9, 8: 10, 234: 236, 37: 39, 2: 4}\n",
            "{1: 1, 3: 9, 7: 49, 37: 1369}\n",
            "{42: 1764, 4: 16, 56: 3136, 8: 64, 234: 54756, 2: 4}\n"
          ]
        }
      ]
    },
    {
      "cell_type": "code",
      "source": [
        "even_set=set()\n",
        "for x in list1:\n",
        "  if x %2==0:\n",
        "    even_set.add(x)\n",
        "print(sorted(even_set))\n",
        "\n",
        "odd_set= set()\n",
        "for x in list1:\n",
        "  if x%2!=0:\n",
        "    odd_set.add(x)\n",
        "print(sorted(odd_set))\n"
      ],
      "metadata": {
        "colab": {
          "base_uri": "https://localhost:8080/"
        },
        "id": "7ZHydbwTcTP_",
        "outputId": "4f41d4bb-df6b-4e77-b941-e82433ebd620"
      },
      "execution_count": 46,
      "outputs": [
        {
          "output_type": "stream",
          "name": "stdout",
          "text": [
            "[2, 4, 8, 42, 56, 234]\n",
            "[1, 3, 7, 37]\n"
          ]
        }
      ]
    },
    {
      "cell_type": "code",
      "source": [
        "#Set comprehension\n",
        "even, odd={x for x in list1 if x%2==0},{x for x in list1 if x%2!=0}\n",
        "print(sorted(even))\n",
        "print(sorted(odd))"
      ],
      "metadata": {
        "colab": {
          "base_uri": "https://localhost:8080/"
        },
        "id": "aHskeTX1f_wd",
        "outputId": "a5c51743-ecb2-4cc0-816c-7030efeb44d3"
      },
      "execution_count": 47,
      "outputs": [
        {
          "output_type": "stream",
          "name": "stdout",
          "text": [
            "[2, 4, 8, 42, 56, 234]\n",
            "[1, 3, 7, 37]\n"
          ]
        }
      ]
    },
    {
      "cell_type": "code",
      "source": [],
      "metadata": {
        "id": "BALZYyYvgo-w"
      },
      "execution_count": null,
      "outputs": []
    }
  ]
}