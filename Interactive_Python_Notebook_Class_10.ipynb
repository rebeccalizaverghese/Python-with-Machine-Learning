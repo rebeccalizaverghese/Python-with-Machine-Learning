{
  "nbformat": 4,
  "nbformat_minor": 0,
  "metadata": {
    "colab": {
      "provenance": [],
      "authorship_tag": "ABX9TyMe6N1TqyQ0QMiMmrMiJUim",
      "include_colab_link": true
    },
    "kernelspec": {
      "name": "python3",
      "display_name": "Python 3"
    },
    "language_info": {
      "name": "python"
    }
  },
  "cells": [
    {
      "cell_type": "markdown",
      "metadata": {
        "id": "view-in-github",
        "colab_type": "text"
      },
      "source": [
        "<a href=\"https://colab.research.google.com/github/rebeccalizaverghese/Python-with-Machine-Learning/blob/main/Interactive_Python_Notebook_Class_10.ipynb\" target=\"_parent\"><img src=\"https://colab.research.google.com/assets/colab-badge.svg\" alt=\"Open In Colab\"/></a>"
      ]
    },
    {
      "cell_type": "code",
      "execution_count": null,
      "metadata": {
        "id": "vXvHQ7ct2btU"
      },
      "outputs": [],
      "source": []
    },
    {
      "cell_type": "markdown",
      "source": [
        "**Class 10**"
      ],
      "metadata": {
        "id": "kAAtLZ3p3bnt"
      }
    },
    {
      "cell_type": "code",
      "source": [
        "#Encapsulation - hide/ bundle data into single unit\n",
        "#Methods - private (no access unless given ) | public (access freely given)\n",
        "#PUBLIC METHOD\n",
        "class details():\n",
        "  def __init__(a,username,password): #Instance attribute in Details class\n",
        "     a.username= username\n",
        "     a.password= password\n"
      ],
      "metadata": {
        "id": "6liDBuaG3dSt"
      },
      "execution_count": null,
      "outputs": []
    },
    {
      "cell_type": "code",
      "source": [
        "obj1= details(\"Admin\",1234) \n",
        "print(\"The username is\", obj1.username)\n",
        "print(\"The password is\", obj1.password)"
      ],
      "metadata": {
        "colab": {
          "base_uri": "https://localhost:8080/"
        },
        "id": "ocPQGyQu43OI",
        "outputId": "80228d89-a5c3-4069-8576-bd97fbee6575"
      },
      "execution_count": null,
      "outputs": [
        {
          "output_type": "stream",
          "name": "stdout",
          "text": [
            "The username is Admin\n",
            "The password is 1234\n"
          ]
        }
      ]
    },
    {
      "cell_type": "code",
      "source": [
        "#PRIVATE METHOD\n",
        "class details():\n",
        "  def __init__(a,username,password):\n",
        "     a.username= username\n",
        "     a.__password= password\n",
        "  def showname(a):\n",
        "    print(\"The password is\",a.__password)"
      ],
      "metadata": {
        "id": "APgnxNEu5API"
      },
      "execution_count": null,
      "outputs": []
    },
    {
      "cell_type": "code",
      "source": [
        "obj2= details(\"Admin\",1234)\n",
        "print(\"The username is\", obj2.username)\n",
        "obj2.showname()"
      ],
      "metadata": {
        "colab": {
          "base_uri": "https://localhost:8080/"
        },
        "id": "Ent8nUCL5vNZ",
        "outputId": "e68cf2e1-3835-4392-bfc6-9f10e590009c"
      },
      "execution_count": null,
      "outputs": [
        {
          "output_type": "stream",
          "name": "stdout",
          "text": [
            "The username is Admin\n",
            "The password is 1234\n"
          ]
        }
      ]
    },
    {
      "cell_type": "code",
      "source": [
        "class Info():\n",
        "  def __init__(a,name,income):\n",
        "    a.name= name\n",
        "    a.__income= income\n",
        "  def showincome(a):\n",
        "    print(\"The income is\",a.__income)\n",
        "\n",
        "obj3= Info(\"Abe\", 10000)\n",
        "obj3.showincome()"
      ],
      "metadata": {
        "colab": {
          "base_uri": "https://localhost:8080/"
        },
        "id": "ZOLnIJvo6JFo",
        "outputId": "1b6aa415-bb4c-471b-dc63-dc5bac2ccf6b"
      },
      "execution_count": null,
      "outputs": [
        {
          "output_type": "stream",
          "name": "stdout",
          "text": [
            "The income is 10000\n"
          ]
        }
      ]
    },
    {
      "cell_type": "code",
      "source": [
        "#Polymorphism - modifying properties to fit into the best main class\n",
        "class bird():\n",
        "  def intro(self):\n",
        "    print(\"They are different types of birds\")\n",
        "  def fly(self):\n",
        "    print(\"Most birds can fly\")\n",
        "\n",
        "class parrot(bird):\n",
        "  def fly(self):\n",
        "    print(\"Parrots can fly\")\n",
        "\n",
        "class penguin(bird):\n",
        "  def fly(self):\n",
        "    print(\"Penguins cannot fly\")"
      ],
      "metadata": {
        "id": "wQCSn5B166DT"
      },
      "execution_count": null,
      "outputs": []
    },
    {
      "cell_type": "code",
      "source": [
        "o1=bird()\n",
        "o2=parrot()\n",
        "o3=penguin()\n",
        "\n",
        "o1.fly()\n",
        "o2.fly()\n",
        "o3.fly()\n",
        "\n",
        "o1.intro()\n",
        "o2.intro()\n",
        "o3.intro()"
      ],
      "metadata": {
        "colab": {
          "base_uri": "https://localhost:8080/"
        },
        "id": "eQ3pO_Xl72uK",
        "outputId": "d7d216a7-cde4-49c0-f426-6f3bb7a2296f"
      },
      "execution_count": null,
      "outputs": [
        {
          "output_type": "stream",
          "name": "stdout",
          "text": [
            "Most birds can fly\n",
            "Parrots can fly\n",
            "Penguins cannot fly\n",
            "They are different types of birds\n",
            "They are different types of birds\n",
            "They are different types of birds\n"
          ]
        }
      ]
    },
    {
      "cell_type": "code",
      "source": [
        "#Exception handling - handling errors in crashing"
      ],
      "metadata": {
        "id": "eV7RtGij8Bha"
      },
      "execution_count": null,
      "outputs": []
    },
    {
      "cell_type": "code",
      "source": [
        "age=int(input(\"Enter your age\"))  #If else condition - multiple if conditions and 1 else condition\n",
        "if age<18:\n",
        "  print(\"You are a child\")\n",
        "  print(\"Not eligible to vote\")\n",
        "else:\n",
        "  print(\"You are an Adult\")\n",
        "  print(\"Eligible to vote\")\n"
      ],
      "metadata": {
        "colab": {
          "base_uri": "https://localhost:8080/"
        },
        "id": "APVgTqbm9onJ",
        "outputId": "0ba1115c-2f14-47d5-9955-fb4f7aa484f4"
      },
      "execution_count": null,
      "outputs": [
        {
          "output_type": "stream",
          "name": "stdout",
          "text": [
            "Enter your age33\n",
            "You are an Adult\n",
            "Eligible to vote\n"
          ]
        }
      ]
    },
    {
      "cell_type": "code",
      "source": [
        "a=int(input(\"enter a value\"))\n",
        "if a>0:\n",
        "  print(\"It is a positive number\")\n",
        "elif a<0:\n",
        "  print(\"It is a negative number\")\n",
        "else:\n",
        "  print(\"The number is = 0\")"
      ],
      "metadata": {
        "colab": {
          "base_uri": "https://localhost:8080/"
        },
        "id": "oXDty_VJ-qZm",
        "outputId": "643f4ad2-a038-4b70-e15b-6f8b0ef32140"
      },
      "execution_count": null,
      "outputs": [
        {
          "output_type": "stream",
          "name": "stdout",
          "text": [
            "enter a value0\n",
            "The number is = 0\n"
          ]
        }
      ]
    },
    {
      "cell_type": "code",
      "source": [
        "#Try & except clause - used to avoid error by providing filtered response... if try clause is false then it jumps to except clause\n",
        "list1=[1,23,45,67,8,9] # only one try condition - if true it will print data\n",
        "try:\n",
        "  print(list1[10]) # if false/ error in condition it directly jumps to except clause\n",
        "  print(list1[0])\n",
        "except:\n",
        "  print(\"Enter the valid Index number\")"
      ],
      "metadata": {
        "colab": {
          "base_uri": "https://localhost:8080/"
        },
        "id": "Gh-Bq7QD_yEJ",
        "outputId": "77be0d47-a13f-44b7-d74d-9b6e2cdfcb37"
      },
      "execution_count": null,
      "outputs": [
        {
          "output_type": "stream",
          "name": "stdout",
          "text": [
            "Enter the valid Index number\n"
          ]
        }
      ]
    },
    {
      "cell_type": "code",
      "source": [
        "try:\n",
        "  num=int(input(\"Enter value\"))\n",
        "  print(\"The value is\", num) #if value is not entered, it jumps to except clause\n",
        "\n",
        "except:\n",
        "  print(\"Please enter valid input\")"
      ],
      "metadata": {
        "colab": {
          "base_uri": "https://localhost:8080/"
        },
        "id": "CwFkdnWRAyVi",
        "outputId": "0ce5a601-0554-428c-d367-f37c2be2344f"
      },
      "execution_count": null,
      "outputs": [
        {
          "output_type": "stream",
          "name": "stdout",
          "text": [
            "Enter valueRoot\n",
            "Please enter valid input\n"
          ]
        }
      ]
    },
    {
      "cell_type": "code",
      "source": [
        "try:\n",
        "  a=int(input(\"Enter the num1 value:\"))\n",
        "  b=int(input(\"Enter num2 value:\"))\n",
        "  print(\"The sum of two values are:\", a+b)\n",
        "\n",
        "except:\n",
        "  print(\"An error has occured\")\n",
        "finally:\n",
        "  print(\"Thank you for the input\")"
      ],
      "metadata": {
        "colab": {
          "base_uri": "https://localhost:8080/"
        },
        "id": "d-UeUlbzB3hJ",
        "outputId": "abea4ed4-c748-42ab-cb44-ee25c224ebcf"
      },
      "execution_count": null,
      "outputs": [
        {
          "output_type": "stream",
          "name": "stdout",
          "text": [
            "Enter the num1 value:3\n",
            "Enter num2 value:6\n",
            "The sum of two values are: 9\n",
            "Thank you for the input\n"
          ]
        }
      ]
    },
    {
      "cell_type": "code",
      "source": [
        "try:\n",
        "  a=int(input(\"Enter the num1 value:\"))\n",
        "  b=int(input(\"Enter num2 value:\"))\n",
        "  print(\"The sum of two values are:\", a+b)\n",
        "\n",
        "except:\n",
        "  print(\"An error has occured\")\n",
        "finally:\n",
        "  print(\"Thank you for the input\")"
      ],
      "metadata": {
        "colab": {
          "base_uri": "https://localhost:8080/"
        },
        "id": "Pzf5efOICZJZ",
        "outputId": "e3a09705-92e4-4149-d66e-e05c0e8d1fd8"
      },
      "execution_count": null,
      "outputs": [
        {
          "output_type": "stream",
          "name": "stdout",
          "text": [
            "Enter the num1 value:3\n",
            "Enter num2 value:b\n",
            "An error has occured\n",
            "Thank you for the input\n"
          ]
        }
      ]
    },
    {
      "cell_type": "code",
      "source": [
        "a=open(\"a.txt\",\"r\")\n",
        "print(a.read()) #Error"
      ],
      "metadata": {
        "colab": {
          "base_uri": "https://localhost:8080/",
          "height": 183
        },
        "id": "hlGin_nyDH-R",
        "outputId": "22500926-cac2-4a2f-8bb5-9b41b90cad7b"
      },
      "execution_count": null,
      "outputs": [
        {
          "output_type": "error",
          "ename": "FileNotFoundError",
          "evalue": "ignored",
          "traceback": [
            "\u001b[0;31m---------------------------------------------------------------------------\u001b[0m",
            "\u001b[0;31mFileNotFoundError\u001b[0m                         Traceback (most recent call last)",
            "\u001b[0;32m<ipython-input-53-e4423730891f>\u001b[0m in \u001b[0;36m<cell line: 1>\u001b[0;34m()\u001b[0m\n\u001b[0;32m----> 1\u001b[0;31m \u001b[0ma\u001b[0m\u001b[0;34m=\u001b[0m\u001b[0mopen\u001b[0m\u001b[0;34m(\u001b[0m\u001b[0;34m\"a.txt\"\u001b[0m\u001b[0;34m,\u001b[0m\u001b[0;34m\"r\"\u001b[0m\u001b[0;34m)\u001b[0m\u001b[0;34m\u001b[0m\u001b[0;34m\u001b[0m\u001b[0m\n\u001b[0m\u001b[1;32m      2\u001b[0m \u001b[0mprint\u001b[0m\u001b[0;34m(\u001b[0m\u001b[0ma\u001b[0m\u001b[0;34m.\u001b[0m\u001b[0mread\u001b[0m\u001b[0;34m(\u001b[0m\u001b[0;34m)\u001b[0m\u001b[0;34m)\u001b[0m\u001b[0;34m\u001b[0m\u001b[0;34m\u001b[0m\u001b[0m\n",
            "\u001b[0;31mFileNotFoundError\u001b[0m: [Errno 2] No such file or directory: 'a.txt'"
          ]
        }
      ]
    },
    {
      "cell_type": "code",
      "source": [
        "try: #Above error handled\n",
        "#TO CREATE NEW FILE => click files tab in extreme left - right click - select 'new files' and name as desired.\n",
        "  a=open(\"a.txt\",\"r\")\n",
        "  print(a.read())\n",
        "except:\n",
        "  print(\"Kindly check the file name\")\n",
        "finally:\n",
        "  print(\"Partially completed\")"
      ],
      "metadata": {
        "colab": {
          "base_uri": "https://localhost:8080/"
        },
        "id": "Z0K-C3-6CvBv",
        "outputId": "83521623-1da1-4686-af31-9cfc8b923d50"
      },
      "execution_count": 2,
      "outputs": [
        {
          "output_type": "stream",
          "name": "stdout",
          "text": [
            "Hello all!\n",
            "Partially completed\n"
          ]
        }
      ]
    },
    {
      "cell_type": "code",
      "source": [
        "try: \n",
        "  b=open(\"b.txt\",\"r\")\n",
        "  print(b.read())\n",
        "except:\n",
        "  print(\"Kindly check the file name\")\n",
        "finally:\n",
        "  print(\"Partially completed\")"
      ],
      "metadata": {
        "colab": {
          "base_uri": "https://localhost:8080/"
        },
        "id": "fCLFNPMNDB5R",
        "outputId": "d7431fc6-0435-4a5a-cf52-109c74823dc7"
      },
      "execution_count": 4,
      "outputs": [
        {
          "output_type": "stream",
          "name": "stdout",
          "text": [
            "Good Morning All!\n",
            "Welcome to Python with Machine Learning.\n",
            "Partially completed\n"
          ]
        }
      ]
    },
    {
      "cell_type": "code",
      "source": [
        "def calculate_age(birth_year):\n",
        "  current_year=2023\n",
        "  if birth_year>current_year:\n",
        "    raise valueError(\"Invalid Birth Year\")\n",
        "  else: \n",
        "    age=current_year-birth_year\n",
        "    return age\n",
        "\n",
        "calculate_age(2003)\n"
      ],
      "metadata": {
        "colab": {
          "base_uri": "https://localhost:8080/"
        },
        "id": "QrGg-IE-DnMT",
        "outputId": "79f24eff-c93e-40a2-b60b-f6509ad2bf8b"
      },
      "execution_count": null,
      "outputs": [
        {
          "output_type": "execute_result",
          "data": {
            "text/plain": [
              "20"
            ]
          },
          "metadata": {},
          "execution_count": 73
        }
      ]
    },
    {
      "cell_type": "code",
      "source": [
        "try:\n",
        "  year=int(input(\"Enter Birth Year\"))\n",
        "  age=calculate_age(year)\n",
        "  print(\"You are\", age, \"Years old\")\n",
        "except:\n",
        "  print(\"Invalid\")"
      ],
      "metadata": {
        "colab": {
          "base_uri": "https://localhost:8080/"
        },
        "id": "uljRRoQXEI8G",
        "outputId": "67f7323a-8914-4400-e53a-8c6161d602b4"
      },
      "execution_count": null,
      "outputs": [
        {
          "output_type": "stream",
          "name": "stdout",
          "text": [
            "Enter Birth Year2003\n",
            "You are 20 Years old\n"
          ]
        }
      ]
    },
    {
      "cell_type": "code",
      "source": [],
      "metadata": {
        "id": "4YYvcyIvEi1P"
      },
      "execution_count": null,
      "outputs": []
    }
  ]
}